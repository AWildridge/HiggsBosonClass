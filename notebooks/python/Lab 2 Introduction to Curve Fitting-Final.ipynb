{
 "cells": [
  {
   "cell_type": "markdown",
   "metadata": {},
   "source": [
    "# Lab 2: Introduction to Curve Fitting in ROOT\n",
    "\n",
    "![alt-text](https://root.cern.ch/root/htmldoc/guides/users-guide/pictures/03000070.png \"\")\n"
   ]
  },
  {
   "cell_type": "markdown",
   "metadata": {},
   "source": [
    "## Table of Contents\n",
    "1. **[Fit Example](#fit-example)**\n",
    "2. **[Creating a Fitting Function](#creating-fitting-function)**  \n",
    "   2.1. [The TF1 Class](#tf1-class)  \n",
    "   2.2. [Predefined Functions](#predefined-functions)  \n",
    "   2.3. [Exercise](#create-fit-func-exercise)  \n",
    "3. **[The Fit Method](#fit-method)**  \n",
    "   3.1. [Fitting a Histogram](#fitting-histogram)  \n",
    "   3.2. [Fitting Options](#fit-options)  \n",
    "   3.3. [Exercise](#fit-exercise)  \n",
    "4. **[RooFit](#RooFit)**  \n",
    "   4.1. [RooRealVar](#RooRealVar)  \n",
    "   4.2. [RooDataset](#RooDataSet)  \n",
    "   4.3. [Fitting with RooAbsPdf](#RooAbsPdf)  \n",
    "   4.4. [Exercise](#fit-exercise2)\n",
    "5. **[$\\chi^2$ Pull Distributions](#pulls)**  \n",
    "   5.1. [Exercise](#pulls-practice)"
   ]
  },
  {
   "cell_type": "markdown",
   "metadata": {},
   "source": [
    "## 1. Fit Example <a name=\"fit-example\" />\n",
    "Below is an example of fitting a function to a histogram. We will break down this code and see the different ways you can fit a function to data and discuss why we want to do this."
   ]
  },
  {
   "cell_type": "code",
   "execution_count": 1,
   "metadata": {},
   "outputs": [
    {
     "name": "stdout",
     "output_type": "stream",
     "text": [
      "Welcome to JupyROOT 6.17/01\n"
     ]
    }
   ],
   "source": [
    "import ROOT"
   ]
  },
  {
   "cell_type": "code",
   "execution_count": 14,
   "metadata": {},
   "outputs": [
    {
     "name": "stdout",
     "output_type": "stream",
     "text": [
      " FCN=108.228 FROM MIGRAD    STATUS=CONVERGED      31 CALLS          32 TOTAL\n",
      "                     EDM=7.85278e-21    STRATEGY= 1      ERROR MATRIX ACCURATE \n",
      "  EXT PARAMETER                                   STEP         FIRST   \n",
      "  NO.   NAME      VALUE            ERROR          SIZE      DERIVATIVE \n",
      "   1  p0          -1.01655e+02   2.35238e+00   6.51768e-03   9.81160e-11\n",
      "   2  p1           2.57886e+02   3.12924e+00   8.67012e-03   6.14648e-11\n",
      " FCN=116.314 FROM MIGRAD    STATUS=CONVERGED      60 CALLS          61 TOTAL\n",
      "                     EDM=5.11505e-09    STRATEGY= 1      ERROR MATRIX ACCURATE \n",
      "  EXT PARAMETER                                   STEP         FIRST   \n",
      "  NO.   NAME      VALUE            ERROR          SIZE      DERIVATIVE \n",
      "   1  Constant     2.81227e+02   3.47005e+00   1.49604e-02  -1.83188e-05\n",
      "   2  Mean        -2.89024e-02   8.51532e-03   4.49625e-05   1.77740e-03\n",
      "   3  Sigma        8.41808e-01   6.06418e-03   1.02743e-05   2.07775e-02\n"
     ]
    },
    {
     "name": "stderr",
     "output_type": "stream",
     "text": [
      "Warning in <TROOT::Append>: Replacing existing TH1: 1d (Potential memory leak).\n",
      "Warning in <TCanvas::Constructor>: Deleting canvas with same name: canvas_name\n",
      "Info in <TCanvas::Print>: png file fitted_hist.png has been created\n"
     ]
    },
    {
     "data": {
      "image/png": "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\n",
      "text/plain": [
       "<IPython.core.display.Image object>"
      ]
     },
     "metadata": {},
     "output_type": "display_data"
    }
   ],
   "source": [
    "# 1D Histogram\n",
    "one_d_hist = ROOT.TH1F(\"1d\", \"Histogram from a Gaussian\", 100, -3, 3)\n",
    "one_d_hist.FillRandom(\"gaus\", 10000)\n",
    "\n",
    "fitting_function = ROOT.TF1(\"name\", \"[0]*x^2 + [1]\", -1.5, 1.5)\n",
    "fitting_function.SetParameter(0, 20)\n",
    "fitting_function.SetParameter(1, 200)\n",
    "fitting_function.SetLineColor(1)\n",
    "one_d_hist.Fit(\"name\", \"R\")\n",
    "one_d_hist.Fit(\"gaus\", \"+\")\n",
    "\n",
    "canvas = ROOT.TCanvas(\"canvas_name\", \"canvas_name\", 700, 700)\n",
    "one_d_hist.Draw()\n",
    "canvas.SaveAs(\"fitted_hist.png\")\n",
    "canvas.Draw()"
   ]
  },
  {
   "cell_type": "markdown",
   "metadata": {},
   "source": [
    "## 2. Creating a Fitting Function <a name=\"creating-fitting-function\" />\n",
    "The class that is used to represent a function is the `TF1` class. The `TF1` class is used to represent any function. You can specify parameters than are allowed to change their value in the definition of the function so that we can change these parameters in an attempt to fit this function as close to the histogram as possible. \n",
    "\n",
    "There are two classes of functions available to use: user-defined functions and predefined functions. We will first cover user-defined functions as they can do everything a predefined function can and then will later list some of the predefined functions. You need to be careful when using a predefined function to ensure that the function will be able to fit the data correctly."
   ]
  },
  {
   "cell_type": "markdown",
   "metadata": {},
   "source": [
    "\n",
    "### 2.1 The TF1 Class <a name=\"tf1-class\" />\n",
    "To create a user-defined fitting function, you will type `fitting_function = ROOT.TF1(\"name\", \"expression\", xmin, xmax)`, where `name` is the name of the funciton, `expression` is the mathematical expression of the function, `xmin` is the minimum x value the function covers, and `xmax` is the maximum x value the function covers. An example of this is:\n",
    "```python\n",
    "fitting_function = ROOT.TF1(\"quadratic\", \"[0]*x^2 + [1]\", -1.5, 1.5)\n",
    "```\n",
    "The mathematical expression for this function is equivalent to:\n",
    "$$\n",
    "f(x) = ax^2 + c\n",
    "$$\n",
    "where $a$ and $c$ can be any real value. `[x]` in the expression denotes a variable that can be changed to any value to help fit the function where x is the ID of the parameter. This function is also only defined on the inteval $[-1.5, 1.5]$.\n",
    "\n",
    "Sometimes when you try fitting your function you will realize that you are getting a very bad fit to the data even though you know the data kind of follows this function in this range. One possible reason for this is that the adjustable parameters are starting at initial values that make it hard for the program to adjust it to the correct values to accurately fit the data. We can help the program in fitting these functions by guessing what the initial values should be and by setting ranges on what values the variable can take on. To set the initial values of the parameters we can use the `SetParameter` or the `SetParameters` methods.\n",
    "\n",
    "```python\n",
    "fitting_function.SetParameter(0, 20)\n",
    "fitting_function.SetParameter(1, 200)\n",
    "```\n",
    "or\n",
    "```python\n",
    "fitting_function.SetParameters(20, 200)\n",
    "```\n",
    "In both cases we are setting the variable `[0]` to 20 and the variable `[1]` to 200. To set limits we will use the method `SetParLimits`.\n",
    "\n",
    "```python\n",
    "fitting_function.SetParLimits(0, 0, 100)\n",
    "fitting_function.SetParLimits(1, 0, 1000)\n",
    "```\n",
    "__NOTE__: Be careful when setting limits on parameters. Only set limits when you know the variable absolutely should not be outside of these ranges. Otherwise, you could be obtaining a sub-optimal fit. One way to see this happening is if the fitter is choosing one of your limits as the best value for the parameter."
   ]
  },
  {
   "cell_type": "markdown",
   "metadata": {},
   "source": [
    "### 2.2 Predefined Functions <a name=\"predefined-functions\" />\n",
    "There are a lot of functions that are used over and over to fit histograms, so ROOT has gone out of the way and defined some of these functions for you. I will list the `\"name\"` of the popular ones here but you may be able to find more if you search through ROOT's documentation.\n",
    "\n",
    "* `\"gaus\"`: A Gaussian function with 3 parameters: $A$, $\\mu$, and $\\sigma$.\n",
    "$$\n",
    "f(x) = Ae^{-\\left(\\frac{x-\\mu}{\\sigma}\\right)^2}\n",
    "$$\n",
    "* `\"expo\"`: An exponential function with 2 parameters: $a$ and $b$.\n",
    "$$\n",
    "f(x) = e^{a + bx}\n",
    "$$\n",
    "* `\"pol N\"`: A polynomial of degree N, where N is between 0 and 9.\n",
    "$$\n",
    "f(x) = a_0 + a_1x + a_2x^2 + ... + a_Nx^N\n",
    "$$\n",
    "* `\"chebyshev N\"`: A Chebyshev polynomial of degree N, where N is between 0 and 9.\n",
    "$$\n",
    "f(x) = a_0 + a_1x + a_2\\left(2x^2 - 1\\right) + ... + a_NT_N(x)\n",
    "$$\n",
    "* `\"gausn\"`: The normalized Gaussian function with 3 parameters: $A$, $\\mu$, and $\\sigma$.\n",
    "$$\n",
    "f(x) = \\frac{A}{\\sigma \\sqrt{2\\pi}}e^{-\\left(\\frac{x-\\mu}{\\sigma}\\right)^2}\n",
    "$$"
   ]
  },
  {
   "cell_type": "markdown",
   "metadata": {},
   "source": [
    "### 2.3 Exercise <a name=\"create-fit-func-exercise\" />\n",
    "Create a fitting function the matches the function:\n",
    "$$\n",
    "f(x) = \\frac{2}{R^2\\pi}\\sqrt{R^2 - x^2}\n",
    "$$\n",
    "where R is your variable that is allowed to change its value, on the interval $[-5, 5]$."
   ]
  },
  {
   "cell_type": "markdown",
   "metadata": {},
   "source": [
    "## 3. The Fit Method <a name=\"fit-method\" />\n",
    "Now that we know how to create functions that can be fitted to histograms, we need to actually fit these functions to our histograms. This is very easy to do and can be done with the `Fit` method belonging to the `TH1` class."
   ]
  },
  {
   "cell_type": "markdown",
   "metadata": {},
   "source": [
    "### 3.1 Fitting a Histogram <a name=\"fitting-histogram\" />\n",
    "First we need to create a histogram. We will just create a histogram and fill it from a Gaussian.\n",
    "```python\n",
    "one_d_hist = ROOT.TH1F(\"1d\", \"Histogram from a Gaussian\", 100, -3, 3)\n",
    "one_d_hist.FillRandom(\"gaus\", 10000)\n",
    "```\n",
    "Now we simply pass the name of the fitting function we want to use through `Fit()` and the function will be fitted to the histogram.\n",
    "```python\n",
    "one_d_hist.Fit(\"quadratic\")\n",
    "```\n",
    "This is fitting the histogram to our previously user-defined fitting function in [2.1. The TF1 Class](#tf1-class). If we wanted to use a predefined function we could simply do this as so:\n",
    "```python\n",
    "one_d_hist.Fit(\"gaus\")\n",
    "```\n",
    "    \n",
    "Fitting is really that easy!\n"
   ]
  },
  {
   "cell_type": "markdown",
   "metadata": {},
   "source": [
    "### 3.2 Fitting Options <a name=\"fit-options\" />\n",
    "There are plenty of options that can be used in performing your fit so as to ensure that you get the best fit or to simply change what is happening to the fit. Here is a list of some of the more predominant options, but a full list can be found [here](#https://root.cern.ch/doc/master/classTH1.html#a7e7d34c91d5ebab4fc9bba3ca47dabdd).\n",
    "    \n",
    "* `\"L\"`: Use Loglikelihood method (default is chisquare method). To be used when the histogram represents counts\n",
    "* `\"Q\"`: Quiet mode (minimum printing)\n",
    "* `\"V\"`: Verbose mode (default is between Q and V)\n",
    "* `\"E\"`: Perform better Errors estimation using Minos technique\n",
    "* `\"R\"`: Use the Range specified in the function range\n",
    "* `\"0\"`: Do not plot the result of the fit. By default the fitted function is drawn unless the option \"N\" is specified.\n",
    "* `\"+\"`: Add this new fitted function to the list of fitted functions (by default, any previous function is deleted)\n",
    "* `\"F\"`: If fitting a polN, switch to minuit fitter"
   ]
  },
  {
   "cell_type": "markdown",
   "metadata": {},
   "source": [
    "### 3.3 Exercise <a name=\"fit-exercise\" />"
   ]
  },
  {
   "cell_type": "markdown",
   "metadata": {},
   "source": [
    "Fit a falling and rising exponential on the intervals $[0, 3]$ and $[-3, 0]$, respectively, for the below histogram. Draw the resultant histogram and fits and ensure both fits are on the same plot."
   ]
  },
  {
   "cell_type": "code",
   "execution_count": null,
   "metadata": {},
   "outputs": [],
   "source": [
    "hist = ROOT.TH1F(\"1d\", \"Histogram from a Gaussian\", 100, -3, 3)\n",
    "one_d_hist.FillRandom(\"gaus\", 10000)\n",
    "\n",
    "# Fitting goes here\n",
    "falling_expo = ROOT.\n",
    "rising_expo = ROOT.\n",
    "\n",
    "one_d_hist.Fit(\"\")\n",
    "one_d_hist.Fit(\"\")"
   ]
  },
  {
   "cell_type": "markdown",
   "metadata": {},
   "source": [
    "## 4. RooFit <a name=\"RooFit\" />"
   ]
  },
  {
   "cell_type": "markdown",
   "metadata": {},
   "source": [
    "Now we will discuss a more abstract, but more user-friendly, method to fitting which can readily be used to find mathematical moodels from a distribution in a `TTree`. The library is called RooFit and is already a part of ROOT so there is no further installation required. Simply call `from ROOT import RooFit` and you can access the library's functions. We will now delve into detail how to utilize RooFit's object-oriented approach for fitting, but quick references can be found [here](#https://root.cern.ch/roofit-20-minutes) and [here](#https://root.cern.ch/download/doc/roofit_quickstart_3.00.pdf)."
   ]
  },
  {
   "cell_type": "markdown",
   "metadata": {},
   "source": [
    "### 4.1 RooRealVar <a name = \"roorealvar\">\n",
    "`RooRealVar`'s are objects which act as the variable of the function you build. A quick example of defining a `RooRealVar`:"
   ]
  },
  {
   "cell_type": "code",
   "execution_count": 1,
   "metadata": {},
   "outputs": [
    {
     "name": "stdout",
     "output_type": "stream",
     "text": [
      "Welcome to JupyROOT 6.14/04\n"
     ]
    }
   ],
   "source": [
    "from ROOT import RooFit\n",
    "from ROOT import RooRealVar\n",
    "x = RooRealVar(\"top_pt\", \"top transverse momentum [MeV/c]\", 0, 800)"
   ]
  },
  {
   "cell_type": "markdown",
   "metadata": {},
   "source": [
    "Here we have defined the $x$ to our $f(x)$. As you can see, we have defined a name for this variable \"top_pt\" where \"top\" is the top quark, usually written as $t$, and \"pt\" is the transverse momentum of the particle, it's units \"MeV/c\", and the range over which we want to define our model.  Typically it will not be useful to fit over $-\\infty$ to $\\infty$. No distribution that you are trying to fit will have entries over this entire range, and thus this will make the fit algorithm work harder. It is best to simply define your range as the range that best covers your data. Normally, you can view whatever distribution you plan on fitting in a `TBrowser` to get a good idea for what range you should pick. In this example we will be performing a fit of the *top_pt* from *ee_ttbarsignalplustau.root*."
   ]
  },
  {
   "cell_type": "markdown",
   "metadata": {},
   "source": [
    "### 4.2 RooDataset  <a name=\"RooDataset\" />"
   ]
  },
  {
   "cell_type": "markdown",
   "metadata": {},
   "source": [
    "Before deciding on a model, lets get an idea of what the top_pt looks like. As stated earlier, you could do this in a `TBrowser`, but we will plot the distribution from a `RooDatase` for showcasing. First we grab the `TTree` object from the ROOT file."
   ]
  },
  {
   "cell_type": "code",
   "execution_count": 2,
   "metadata": {},
   "outputs": [
    {
     "name": "stdout",
     "output_type": "stream",
     "text": [
      "TTree imported!\n",
      "RooDataSet created from TTree of top_pt\n",
      "[#1] INFO:Eval -- RooAbsReal::attachToTree(top_pt) TTree Float_t branch top_pt will be converted to double precision\n",
      "[#1] INFO:Eval -- RooTreeDataStore::loadValues(data) Ignored 108 out of range events\n"
     ]
    }
   ],
   "source": [
    "from ROOT import TFile, TTree\n",
    "root_file = TFile.Open(\"../../Datasets/TTbar/ee_ttbarsignalplustau.root\")\n",
    "my_tree = root_file.Get(\"ttBar_treeVariables_step8;4\")\n",
    "print(\"TTree imported!\")\n",
    "\n",
    "from ROOT import RooDataSet, RooArgSet\n",
    "dataset = RooDataSet(\"data\", \"top_pt data\", my_tree, RooArgSet(x))\n",
    "print(\"RooDataSet created from TTree of top_pt\")\n"
   ]
  },
  {
   "cell_type": "markdown",
   "metadata": {},
   "source": [
    "The defined name of your x, for us \"top_pt\", tells `RooDataSet` which branch to read from the `TTree` into the dataset. Since we defined a range of $(0,800)$, RooFit won't import any events beyond this range. Here it ignored 108 events out of the range. But compared to 155,021 total events, this is negligible. Let's see what this dataset looks like."
   ]
  },
  {
   "cell_type": "code",
   "execution_count": 3,
   "metadata": {},
   "outputs": [
    {
     "name": "stderr",
     "output_type": "stream",
     "text": [
      "Info in <TCanvas::Print>: png file top_pt_data.png has been created\n"
     ]
    },
    {
     "data": {
      "image/png": "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\n",
      "text/plain": [
       "<IPython.core.display.Image object>"
      ]
     },
     "metadata": {},
     "output_type": "display_data"
    }
   ],
   "source": [
    "from ROOT import TCanvas\n",
    "xframe = x.frame()\n",
    "dataset.plotOn(xframe, RooFit.Binning(50))\n",
    "canvas2 = TCanvas()\n",
    "xframe.Draw()\n",
    "canvas2.SaveAs(\"top_pt_data.png\")\n",
    "canvas2.Draw()"
   ]
  },
  {
   "cell_type": "markdown",
   "metadata": {},
   "source": [
    "In RooFit, it is quite easy to create and save a plot. `x.frame()` and `xframe.Draw()` take care of preparing the canvas for us from what we defined earlier. You can even change the binning to what you like when you plot the dataset to the frame. Try not to set the binning too course as you may lose some key features visually of the data. If you set the binning to 5, you may be convinced this is an exponential. Conversely if you set the binning to high, it becomes difficult and cluttered to read. Try it for yourself."
   ]
  },
  {
   "cell_type": "markdown",
   "metadata": {},
   "source": [
    "### 4.3 Fitting with RooAbsPdf <a name = \"fitting-rooabspdf\">\n",
    "Now we need to choose a probability density function (pdf) to model our dataset from. This is entirely guess work, but you should have a good idea where to start by looking at the initial distribution. We just need to give RooFit a reasonable guess that it can optimize for us. We could try modeling the dataset off a combiniation of a gaussian and a decaying exponential. However, we will use a more complicated function called the [Crystal Ball function](#https://en.wikipedia.org/wiki/Crystal_Ball_function). The Crystal Ball is a gaussian shape with a decaying tail and is commonly used in High Energy Physics (HEP). "
   ]
  },
  {
   "cell_type": "code",
<<<<<<< HEAD
   "execution_count": 4,
=======
   "execution_count": 13,
>>>>>>> 189af38c513ade1b4d0b0c85a9a36a6c69865f47
   "metadata": {},
   "outputs": [],
   "source": [
    "from ROOT import RooCBShape, RooAddPdf, RooArgList\n",
    "\n",
    "#Shared mean of Crystal Ball functions\n",
    "mean = RooRealVar(\"mean\", \"mean\", 100, 0, 200)\n",
    "\n",
    "#First Crystal ball fnction\n",
    "sigma_1 = RooRealVar(\"sigma_1\", \"sigma_1\", 140, 0, 1000)\n",
    "alpha_1 = RooRealVar(\"alpha_1\", \"alpha_1\", 1, 0, 150)\n",
    "n_1 = RooRealVar(\"n_1\", \"n_1\", 1, 0, 1000)\n",
    "cb_1 = RooCBShape(\"CB1\", \"CB1\", x, mean, sigma_1, alpha_1, n_1)\n",
    "\n",
    "#Second Crystal ball function\n",
    "sigma_2 = RooRealVar(\"sigma_2\", \"sigma_2\", 50, 0, 1000)\n",
    "alpha_2 = RooRealVar(\"alpha_2\", \"alpha_2\", -1, -100, 0)\n",
    "n_2 = RooRealVar(\"n_2\", \"n_2\", 120, 0, 10000)\n",
    "cb_2 = RooCBShape(\"CB2\", \"CB2\", x, mean, sigma_2, alpha_2, n_2)\n",
    "\n",
    "#Add PDFs\n",
    "rel_frac = RooRealVar(\"rel_frac\", \"Relative Fraction\", 0.2, 0.0, 1.0)\n",
    "n_cb1 = RooRealVar(\"n_cb1\", \"n_cb1\", 300000, 0, 160000)\n",
    "n_cb2 = RooRealVar(\"n_cb2\", \"n_cb2\", 130000, 0, 160000)\n",
    "model = RooAddPdf(\"model\", \"model\", RooArgList(cb_1, cb_2), RooArgList(n_cb1, n_cb2))"
   ]
  },
  {
   "cell_type": "markdown",
   "metadata": {},
   "source": [
    "This model is obviously complicated and has many parameters. The more complicated your model is, the more trouble RooFit will have getting a good fit. The initial values have been specially set to give us a good fit, but when you start from scratch it can take a while to figure out what works. Lets take a deeper look at how we create this model.  \n",
    "\n",
    "For every parameter of the model, we have to create a `RooRealVar`, give it an initial value, and give it a range. Once you have created a `RooRealVar` for each parameter, you feed them into the constructor of the`RooAbsPdf`. Each `RooAbsPdf` will have a different number of parameters. For example, a `RooExponential` only has 1 parameter while `RooCBShape` has 4.  \n",
    "\n",
    "Note that each Crystal Ball function shares the same mean. We use two Crystal Balls since the alpha parameter controls the direction of the trailing tail: left if its positive and right if its negative. We can see from our plot the tail trails to the right, but we will include both variants for generality. RooFit will decide for itself which Crystal Ball has more weight. Next, we want to add both functions together. However, we first must define a relative fraction variable since `RooAddPdf` is performing: $$f_{model}(x) = A*f_{CB1}(x)+(1-A)*f_{CB2}(x)$$ `rel_frac` is our A value here, which ranges from 0 to 1. Now let's fit our model to the $t_{pt}$."
   ]
  },
  {
   "cell_type": "code",
<<<<<<< HEAD
   "execution_count": 5,
=======
   "execution_count": 14,
>>>>>>> 189af38c513ade1b4d0b0c85a9a36a6c69865f47
   "metadata": {},
   "outputs": [
    {
     "name": "stdout",
     "output_type": "stream",
     "text": [
      "[#1] INFO:Minization -- p.d.f. provides expected number of events, including extended term in likelihood.\n",
      "[#1] INFO:Minization -- RooMinimizer::optimizeConst: activating const optimization\n",
      "[#1] INFO:Minization --  The following expressions will be evaluated in cache-and-track mode: (CB1,CB2)\n",
      "[#1] INFO:Minization -- RooMinimizer::optimizeConst: deactivating const optimization\n",
      "\n",
      "  RooFitResult: minimized FCN value: -777155, estimated distance to minimum: 0.00277095\n",
      "                covariance matrix quality: Approximation only, not accurate\n",
      "                Status : MINIMIZE=0 HESSE=0 \n",
      "\n",
      "    Floating Parameter    FinalValue +/-  Error   \n",
      "  --------------------  --------------------------\n",
      "               alpha_1    6.5455e+00 +/-  1.81e+00\n",
      "               alpha_2   -4.4313e-01 +/-  1.58e-03\n",
      "                  mean    1.0255e+02 +/-  2.35e-01\n",
      "                   n_1    4.6933e+01 +/-  9.05e+02\n",
      "                   n_2    1.1447e+02 +/-  1.54e+01\n",
      "                 n_cb1    3.1396e+04 +/-  3.78e+02\n",
      "                 n_cb2    1.2353e+05 +/-  3.93e+02\n",
      "               sigma_1    1.4035e+02 +/-  1.45e+00\n",
      "               sigma_2    4.7429e+01 +/-  1.52e-01\n",
      "\n"
     ]
    }
   ],
   "source": [
    "#Fit PDF to data\n",
    "model_results = model.fitTo(dataset, RooFit.PrintLevel(-1), RooFit.PrintEvalErrors(-1), RooFit.Save())\n",
    "model_results.Print()"
   ]
  },
  {
   "cell_type": "markdown",
   "metadata": {},
   "source": [
    "The fit can take a while to complete: expect more complicated models to take longer. `fitTo()` only requires one argument, a `RooDataSet`, but additional options can be given. The first two reduce the ammount `fitTo()` prints into the terminal. This information is important, but for the sake of example we don't need it. Pay attention to what `fitTo()` prints when performing fits. `RooFit.Save()` makes `fitTo()` return a `RooFitResults` object which we can print to see the final values of the parameters. Let's take a visual look at the resulting fit."
   ]
  },
  {
   "cell_type": "code",
<<<<<<< HEAD
   "execution_count": 6,
=======
   "execution_count": 30,
>>>>>>> 189af38c513ade1b4d0b0c85a9a36a6c69865f47
   "metadata": {},
   "outputs": [
    {
     "name": "stdout",
     "output_type": "stream",
     "text": [
      "[#1] INFO:Plotting -- RooAbsPdf::plotOn(model) directly selected PDF components: (CB1)\n",
      "[#1] INFO:Plotting -- RooAbsPdf::plotOn(model) indirectly selected PDF components: ()\n",
      "[#1] INFO:Plotting -- RooAbsPdf::plotOn(model) directly selected PDF components: (CB2)\n",
      "[#1] INFO:Plotting -- RooAbsPdf::plotOn(model) indirectly selected PDF components: ()\n"
     ]
    },
    {
     "name": "stderr",
     "output_type": "stream",
     "text": [
      "Info in <TCanvas::Print>: pdf file top_pt_CBfit.pdf has been created\n"
     ]
    },
    {
     "data": {
      "image/png": "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\n",
      "text/plain": [
       "<IPython.core.display.Image object>"
      ]
     },
     "metadata": {},
     "output_type": "display_data"
    }
   ],
   "source": [
    "from ROOT import kRed, kGreen\n",
    "from ROOT import RooCmdArg\n",
    "#Plot data_set, model, and components of the model\n",
    "xframe = x.frame()\n",
    "dataset.plotOn(xframe)\n",
    "model.plotOn(xframe, RooFit.Components(\"CB1\"), RooFit.LineColor(kRed+1))\n",
    "model.plotOn(xframe, RooFit.Components(\"CB2\"), RooFit.LineColor(kGreen+1))\n",
    "model.plotOn(xframe)\n",
    "model.paramOn(xframe, RooFit.Label(\"Fit Results\"), RooFit.Format(\"NEU\", RooFit.AutoPrecision(1)), RooFit.Layout(0.5,0.9,0.8))\n",
    "canvas3 = TCanvas()\n",
    "xframe.Draw()\n",
    "canvas3.SaveAs(\"top_pt_CBfit.pdf\")\n",
    "canvas3.Draw()"
   ]
  },
  {
   "cell_type": "markdown",
   "metadata": {},
   "source": [
    "The blue line represents our model, while the green and red line are the individual Crystal Balls. We can see this model fits quite well."
   ]
  },
  {
   "cell_type": "markdown",
   "metadata": {},
   "source": [
    "### 4.4 Exercise  <a name=\"fit-exercise2\" />\n",
    "Instead of using two Crystal Balls, fit a gaussian and an exponential to the top_pt and tbar_pt from the ROOT file. Compare the two models. Which one fits better the distribution better? \n",
    "    \n",
    "After those fits, attempt a fit of the all_mass distribution. Find a model which works well."
   ]
  },
  {
   "cell_type": "code",
   "execution_count": 7,
   "metadata": {},
   "outputs": [],
   "source": [
    "import ROOT\n",
    "from ROOT import RooAddPdf, RooArgSet, RooArgList\n",
    "from ROOT import RooGaussian, RooExponential\n",
    "\n",
    "#Define Observable\n",
    "\n",
    "\n",
    "#Define gaussian parameters and create RooGaussian\n",
    "\n",
    "\n",
    "#Define exponential parameter and create RooExponential\n",
    "\n",
    "\n",
    "#Define relative fraction and combine the RooGaussian and RooExponential to a model\n",
    "\n",
    "\n",
    "#Import TTree from ROOT file and create RooDataSet\n",
    "\n",
    "\n",
    "#Fit model to RooDataSet\n",
    "\n",
    "\n",
    "#Plot the RooDataSet, the model, and it's components.\n",
    "\n"
   ]
  },
  {
   "cell_type": "markdown",
   "metadata": {},
   "source": [
    "Tips:\n",
    "* When calling `fitTo()` do not supress the print. It will give you an idea of what values the parameters are settling on. \n",
    "* If a parameter is set to it's limit, you need to expand the range the parameter can be set to. If a parameter has a high error, consider changing the initial values closer to what you think will work."
   ]
  },
  {
   "cell_type": "markdown",
   "metadata": {},
   "source": [
    "## 5. $\\chi^2$ Pull Distributions <a name=\"pulls\" />"
   ]
  },
  {
   "cell_type": "markdown",
   "metadata": {},
   "source": [
    "Now that we have a model, it is important that we get an idea of how accurate this model is. Since RooFit does not use a linear regression, we will not calculate a coefficient of determination. Instead we will "
   ]
  },
  {
   "cell_type": "code",
   "execution_count": 8,
   "metadata": {},
   "outputs": [],
   "source": [
    "#Create Canvas and prepare 2 pads\n",
    "canvas4 = TCanvas(\"chi2residpull\",\"chi2residpull\",900,600)\n",
    "main_frame_height = 0.75\n",
    "pull_frame_height = 1 - main_frame_height\n",
    "main_pull_ratio = main_frame_height / pull_frame_height\n",
    "\n",
    "#Define range of pulls to display\n",
    "num_sigma_pull_range = 3.99"
   ]
  },
  {
   "cell_type": "code",
   "execution_count": 9,
   "metadata": {},
   "outputs": [],
   "source": [
    "#Prepare pad for dataset and model\n",
    "pad1 = ROOT.TPad(\"pad1\", \"The main pad\", 0.0, pull_frame_height, 1.0, 1.0)\n",
    "pad1.SetBottomMargin(0)\n",
    "\n",
    "#Edit pad for dataset and model\n",
    "pad1.cd()\n",
    "xframe.SetMinimum(0.1)\n",
    "xframe.GetXaxis().SetLabelSize(0.0)\n",
    "\n",
    "#Need binning on pad1 and pad2 to match\n",
    "bins = xframe.GetNbinsX()\n",
    "range_min_x = xframe.GetXaxis().GetXmin()\n",
    "range_max_x = xframe.GetXaxis().GetXmax()\n",
    "step_size = (range_max_x - range_min_x) / (2 * bins)\n",
    "\n",
    "#Draw frame with dataset and model to pad1\n",
    "xframe.Draw()"
   ]
  },
  {
   "cell_type": "code",
   "execution_count": 10,
   "metadata": {},
   "outputs": [],
   "source": [
    "#Prepare and Draw pull pad\n",
    "pad2 = ROOT.TPad(\"pad2\", \"The pull pad\", 0.0, 0.0, 1.0, pull_frame_height)\n",
    "pad2.SetTopMargin(0)\n",
    "pad2.SetBottomMargin(0.4) #We want to leave space under pad2 in the canvas\n",
    "\n",
    "#Set up pulls plot\n",
    "hpull = xframe.pullHist()\n",
    "for i in range(bins):\n",
    "    hpull.SetPointError(i, step_size, step_size, 0, 0)\n",
    "hpull.SetMarkerSize(hpull.GetMarkerSize() * 0.5)"
   ]
  },
  {
   "cell_type": "code",
   "execution_count": 11,
   "metadata": {},
   "outputs": [],
   "source": [
    "#Create a frame and add hpull to it\n",
    "frame_pulls = x.frame()\n",
    "frame_pulls.addPlotable(hpull, \"P\")\n",
    "\n",
    "#Format pull frame\n",
    "frame_pulls.SetMinimum(-num_sigma_pull_range)\n",
    "frame_pulls.SetMaximum(num_sigma_pull_range)\n",
    "frame_pulls.GetXaxis().SetTitleSize(0.06 * main_pull_ratio)\n",
    "frame_pulls.GetXaxis().SetLabelSize(0.06 * main_pull_ratio)\n",
    "frame_pulls.GetXaxis().SetTickSize(0.05)\n",
    "\n",
    "frame_pulls.GetYaxis().SetTitle('Pull')\n",
    "frame_pulls.GetYaxis().SetTitleSize(0.072 * main_pull_ratio)\n",
    "frame_pulls.GetYaxis().SetTitleOffset(0.95 / main_pull_ratio)\n",
    "frame_pulls.GetYaxis().SetLabelSize(0.06 * main_pull_ratio)            \n",
    "\n",
    "#Add sigma lines\n",
    "zeroline = ROOT.TLine(range_min_x, 0.0, range_max_x, 0.0)\n",
    "\n",
    "threesigmaline = ROOT.TLine(range_min_x, 3.0, range_max_x, 3.0)\n",
    "threesigmaline.SetLineStyle(ROOT.kDashed)\n",
    "threesigmaline.SetLineColor(ROOT.kGray + 2)\n",
    "\n",
    "minusthreesigmaline = ROOT.TLine(range_min_x, -3.0, range_max_x, -3.0)\n",
    "minusthreesigmaline.SetLineStyle(ROOT.kDashed)\n",
    "minusthreesigmaline.SetLineColor(ROOT.kGray + 2)\n",
    "\n",
    "#Draw frame with pulls to pad2\n",
    "pad2.cd()\n",
    "frame_pulls.Draw()\n",
    "zeroline.Draw('same')\n",
    "threesigmaline.Draw('same')\n",
    "minusthreesigmaline.Draw('same')"
   ]
  },
  {
   "cell_type": "code",
   "execution_count": 12,
   "metadata": {},
   "outputs": [
    {
     "name": "stderr",
     "output_type": "stream",
     "text": [
      "Info in <TCanvas::Print>: pdf file pulls_residuals.pdf has been created\n"
     ]
    },
    {
     "data": {
      "image/png": "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\n",
      "text/plain": [
       "<IPython.core.display.Image object>"
      ]
     },
     "metadata": {},
     "output_type": "display_data"
    }
   ],
   "source": [
    "#Draw pad1 and pad2 to the canvas and save it.\n",
    "canvas4.cd()\n",
    "pad1.Draw()\n",
    "pad2.Draw()\n",
    "canvas4.SaveAs(\"pulls_residuals.pdf\")\n",
    "canvas4.Draw()"
   ]
  },
  {
   "cell_type": "markdown",
   "metadata": {},
   "source": [
    "Now we can quantifiably asses the accuracy of our current model. Our model works relatively well for large pt > 300, but for low pt the fit is more than 3 sigma off. This is a lot of work and is tedious to format everytime. For future use, it is best to create a function that takes the frame with your fit and returns the canvas above. This way you don't have to do all this formating everytime you need to make a plot of your fit."
   ]
  },
  {
   "cell_type": "markdown",
   "metadata": {},
   "source": [
    "### 5.1 Exercise <a name=\"pulls-practice\" />\n",
    "Get the pulls from your gaussian and exponential fits of the top_pt, tbar_pt, and all_mass. How good are your fits? Take a closer look at which model is better: the Crystal Balls or a gaussian and a exponential?"
   ]
  },
  {
   "cell_type": "code",
   "execution_count": null,
   "metadata": {},
   "outputs": [],
   "source": []
  }
 ],
 "metadata": {
  "kernelspec": {
   "display_name": "Python 2",
   "language": "python",
   "name": "python2"
  },
  "language_info": {
   "codemirror_mode": {
    "name": "ipython",
    "version": 2
   },
   "file_extension": ".py",
   "mimetype": "text/x-python",
   "name": "python",
   "nbconvert_exporter": "python",
   "pygments_lexer": "ipython2",
   "version": "2.7.15rc1"
  }
 },
 "nbformat": 4,
 "nbformat_minor": 2
}
