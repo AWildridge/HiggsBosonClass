{
 "cells": [
  {
   "cell_type": "markdown",
   "metadata": {},
   "source": [
    "# Lab 2: Introduction to Curve Fitting in ROOT\n",
    "\n",
    "![alt-text](https://root.cern.ch/root/htmldoc/guides/users-guide/pictures/03000070.png \"\")\n"
   ]
  },
  {
   "cell_type": "markdown",
   "metadata": {},
   "source": [
    "## Table of Contents\n",
    "1. **[Fit Example](#fit-example)**\n",
    "2. **[Creating a Fitting Function](#creating-fitting-function)**  \n",
    "   2.1. [The TF1 Class](#tf1-class)  \n",
    "   2.2. [Predefined Functions](#predefined-functions)  \n",
    "   2.3. [Exercise](#create-fit-func-exercise)  \n",
    "3. **[The Fit Method](#fit-method)**  \n",
    "   3.1. [Fitting a Histogram](#fitting-histogram)  \n",
    "   3.2. [Fitting Options](#fit-options)  \n",
    "   3.3. [Exercise](#fit-exercise)  \n",
    "4. **[Displaying Histograms](#display-histograms)**  \n",
    "   4.1. [TCanvas](#tcanvas)  \n",
    "   4.2. [Draw()](#draw)  \n",
    "   4.3. [Exercise](#draw-exercise)  "
   ]
  },
  {
   "cell_type": "markdown",
   "metadata": {},
   "source": [
    "## 1. Fit Example <a name=\"fit-example\" />\n",
    "Below is an example of fitting a function to a histogram. We will break down this code and see the different ways you can fit a function to data and discuss why we want to do this."
   ]
  },
  {
   "cell_type": "code",
   "execution_count": 2,
   "metadata": {},
   "outputs": [
    {
     "name": "stdout",
     "output_type": "stream",
     "text": [
      "Welcome to JupyROOT 6.17/01\n"
     ]
    }
   ],
   "source": [
    "import ROOT"
   ]
  },
  {
   "cell_type": "code",
   "execution_count": 14,
   "metadata": {},
   "outputs": [
    {
     "name": "stdout",
     "output_type": "stream",
     "text": [
      " FCN=108.228 FROM MIGRAD    STATUS=CONVERGED      31 CALLS          32 TOTAL\n",
      "                     EDM=7.85278e-21    STRATEGY= 1      ERROR MATRIX ACCURATE \n",
      "  EXT PARAMETER                                   STEP         FIRST   \n",
      "  NO.   NAME      VALUE            ERROR          SIZE      DERIVATIVE \n",
      "   1  p0          -1.01655e+02   2.35238e+00   6.51768e-03   9.81160e-11\n",
      "   2  p1           2.57886e+02   3.12924e+00   8.67012e-03   6.14648e-11\n",
      " FCN=116.314 FROM MIGRAD    STATUS=CONVERGED      60 CALLS          61 TOTAL\n",
      "                     EDM=5.11505e-09    STRATEGY= 1      ERROR MATRIX ACCURATE \n",
      "  EXT PARAMETER                                   STEP         FIRST   \n",
      "  NO.   NAME      VALUE            ERROR          SIZE      DERIVATIVE \n",
      "   1  Constant     2.81227e+02   3.47005e+00   1.49604e-02  -1.83188e-05\n",
      "   2  Mean        -2.89024e-02   8.51532e-03   4.49625e-05   1.77740e-03\n",
      "   3  Sigma        8.41808e-01   6.06418e-03   1.02743e-05   2.07775e-02\n"
     ]
    },
    {
     "name": "stderr",
     "output_type": "stream",
     "text": [
      "Warning in <TROOT::Append>: Replacing existing TH1: 1d (Potential memory leak).\n",
      "Warning in <TCanvas::Constructor>: Deleting canvas with same name: canvas_name\n",
      "Info in <TCanvas::Print>: png file fitted_hist.png has been created\n"
     ]
    },
    {
     "data": {
      "image/png": "[encoded data removed]",
      "text/plain": [
       "<IPython.core.display.Image object>"
      ]
     },
     "metadata": {},
     "output_type": "display_data"
    }
   ],
   "source": [
    "# 1D Histogram\n",
    "one_d_hist = ROOT.TH1F(\"1d\", \"Histogram from a Gaussian\", 100, -3, 3)\n",
    "one_d_hist.FillRandom(\"gaus\", 10000)\n",
    "\n",
    "fitting_function = ROOT.TF1(\"name\", \"[0]*x^2 + [1]\", -1.5, 1.5)\n",
    "fitting_function.SetParameter(0, 20)\n",
    "fitting_function.SetParameter(1, 200)\n",
    "fitting_function.SetLineColor(1)\n",
    "one_d_hist.Fit(\"name\", \"R\")\n",
    "one_d_hist.Fit(\"gaus\", \"+\")\n",
    "\n",
    "canvas = ROOT.TCanvas(\"canvas_name\", \"canvas_name\", 700, 700)\n",
    "one_d_hist.Draw()\n",
    "canvas.SaveAs(\"fitted_hist.png\")\n",
    "canvas.Draw()"
   ]
  },
  {
   "cell_type": "markdown",
   "metadata": {},
   "source": [
    "## 2. Creating a Fitting Function <a name=\"creating-fitting-function\" />\n",
    "The class that is used to represent a function is the `TF1` class. The `TF1` class is used to represent any function. You can specify parameters than are allowed to change their value in the definition of the function so that we can change these parameters in an attempt to fit this function as close to the histogram as possible. \n",
    "\n",
    "There are two classes of functions available to use: user-defined functions and predefined functions. We will first cover user-defined functions as they can do everything a predefined function can and then will later list some of the predefined functions. You need to be careful when using a predefined function to ensure that the function will be able to fit the data correctly."
   ]
  },
  {
   "cell_type": "markdown",
   "metadata": {},
   "source": [
    "\n",
    "### 2.1 The TF1 Class <a name=\"tf1-class\" />\n",
    "To create a user-defined fitting function, you will type `fitting_function = ROOT.TF1(\"name\", \"expression\", xmin, xmax)`, where `name` is the name of the funciton, `expression` is the mathematical expression of the function, `xmin` is the minimum x value the function covers, and `xmax` is the maximum x value the function covers. An example of this is:\n",
    "```python\n",
    "fitting_function = ROOT.TF1(\"quadratic\", \"[0]*x^2 + [1]\", -1.5, 1.5)\n",
    "```\n",
    "The mathematical expression for this function is equivalent to:\n",
    "$$\n",
    "f(x) = ax^2 + c\n",
    "$$\n",
    "where $a$ and $c$ can be any real value. `[x]` in the expression denotes a variable that can be changed to any value to help fit the function where x is the ID of the parameter. This function is also only defined on the inteval $[-1.5, 1.5]$.\n",
    "\n",
    "Sometimes when you try fitting your function you will realize that you are getting a very bad fit to the data even though you know the data kind of follows this function in this range. One possible reason for this is that the adjustable parameters are starting at initial values that make it hard for the program to adjust it to the correct values to accurately fit the data. We can help the program in fitting these functions by guessing what the initial values should be and by setting ranges on what values the variable can take on. To set the initial values of the parameters we can use the `SetParameter` or the `SetParameters` methods.\n",
    "\n",
    "```python\n",
    "fitting_function.SetParameter(0, 20)\n",
    "fitting_function.SetParameter(1, 200)\n",
    "```\n",
    "or\n",
    "```python\n",
    "fitting_function.SetParameters(20, 200)\n",
    "```\n",
    "In both cases we are setting the variable `[0]` to 20 and the variable `[1]` to 200. To set limits we will use the method `SetParLimits`.\n",
    "\n",
    "```python\n",
    "fitting_function.SetParLimits(0, 0, 100)\n",
    "fitting_function.SetParLimits(1, 0, 1000)\n",
    "```\n",
    "__NOTE__: Be careful when setting limits on parameters. Only set limits when you know the variable absolutely should not be outside of these ranges. Otherwise, you could be obtaining a sub-optimal fit. One way to see this happening is if the fitter is choosing one of your limits as the best value for the parameter."
   ]
  },
  {
   "cell_type": "markdown",
   "metadata": {},
   "source": [
    "### 2.2 Predefined Functions <a name=\"predefined-functions\" />\n",
    "There are a lot of functions that are used over and over to fit histograms, so ROOT has gone out of the way and defined some of these functions for you. I will list the `\"name\"` of the popular ones here but you may be able to find more if you search through ROOT's documentation.\n",
    "\n",
    "* `\"gaus\"`: A Gaussian function with 3 parameters: $A$, $\\mu$, and $\\sigma$.\n",
    "$$\n",
    "f(x) = Ae^{-\\left(\\frac{x-\\mu}{\\sigma}\\right)^2}\n",
    "$$\n",
    "* `\"expo\"`: An exponential function with 2 parameters: $a$ and $b$.\n",
    "$$\n",
    "f(x) = e^{a + bx}\n",
    "$$\n",
    "* `\"pol N\"`: A polynomial of degree N, where N is between 0 and 9.\n",
    "$$\n",
    "f(x) = a_0 + a_1x + a_2x^2 + ... + a_Nx^N\n",
    "$$\n",
    "* `\"chebyshev N\"`: A Chebyshev polynomial of degree N, where N is between 0 and 9.\n",
    "$$\n",
    "f(x) = a_0 + a_1x + a_2\\left(2x^2 - 1\\right) + ... + a_NT_N(x)\n",
    "$$\n",
    "* `\"gausn\"`: The normalized Gaussian function with 3 parameters: $A$, $\\mu$, and $\\sigma$.\n",
    "$$\n",
    "f(x) = \\frac{A}{\\sigma \\sqrt{2\\pi}}e^{-\\left(\\frac{x-\\mu}{\\sigma}\\right)^2}\n",
    "$$"
   ]
  },
  {
   "cell_type": "markdown",
   "metadata": {},
   "source": [
    "### 2.3 Exercise <a name = \"create-fit-func-exercise\">\n",
    "Create a fitting function the matches the function:\n",
    "$$\n",
    "f(x) = \\frac{2}{R^2\\pi}\\sqrt{R^2 - x^2}\n",
    "$$\n",
    "where R is your variable that is allowed to change its value, on the interval $[-5, 5]$."
   ]
  },
  {
   "cell_type": "markdown",
   "metadata": {},
   "source": [
    "## 3. The Fit Method <a name = \"fit-method\">\n",
    "Now that we know how to create functions that can be fitted to histograms, we need to actually fit these functions to our histograms. This is very easy to do and can be done with the `Fit` method belonging to the `TH1` class."
   ]
  },
  {
   "cell_type": "markdown",
   "metadata": {},
   "source": [
    "### 3.1 Fitting a Histogram <a name = \"fitting-histogram\">\n",
    "First we need to create a histogram. We will just create a histogram and fill it from a Gaussian.\n",
    "```python\n",
    "one_d_hist = ROOT.TH1F(\"1d\", \"Histogram from a Gaussian\", 100, -3, 3)\n",
    "one_d_hist.FillRandom(\"gaus\", 10000)\n",
    "```\n",
    "Now we simply pass the name of the fitting function we want to use through `Fit()` and the function will be fitted to the histogram.\n",
    "```python\n",
    "one_d_hist.Fit(\"quadratic\")\n",
    "```\n",
    "This is fitting the histogram to our previously user-defined fitting function in [2.1. The TF1 Class](#tf1-class). If we wanted to use a predefined function we could simply do this as so:\n",
    "```python\n",
    "one_d_hist.Fit(\"gaus\")\n",
    "```\n",
    "    \n",
    "Fitting is really that easy!\n"
   ]
  },
  {
   "cell_type": "markdown",
   "metadata": {},
   "source": [
    "### 3.2 Fitting Options <a name = \"fit-options\">\n",
    "There are plenty of options that can be used in performing your fit so as to ensure that you get the best fit or to simply change what is happening to the fit. Here is a list of some of the more predominant options, but a full list can be found [here](#https://root.cern.ch/doc/master/classTH1.html#a7e7d34c91d5ebab4fc9bba3ca47dabdd).\n",
    "    \n",
    "* `\"L\"`: Use Loglikelihood method (default is chisquare method). To be used when the histogram represents counts\n",
    "* `\"Q\"`: Quiet mode (minimum printing)\n",
    "* `\"V\"`: Verbose mode (default is between Q and V)\n",
    "* `\"E\"`: Perform better Errors estimation using Minos technique\n",
    "* `\"R\"`: Use the Range specified in the function range\n",
    "* `\"0\"`: Do not plot the result of the fit. By default the fitted function is drawn unless the option \"N\" is specified.\n",
    "* `\"+\"`: Add this new fitted function to the list of fitted functions (by default, any previous function is deleted)\n",
    "* `\"F\"`: If fitting a polN, switch to minuit fitter"
   ]
  },
  {
   "cell_type": "markdown",
   "metadata": {},
   "source": [
    "### 3.3 Exercise <a name = \"fit-exercise\">"
   ]
  },
  {
   "cell_type": "markdown",
   "metadata": {},
   "source": [
    "Fit a falling and rising exponential on the intervals $[0, 3]$ and $[-3, 0]$, respectively, for the below histogram. Draw the resultant histogram and fits and ensure both fits are on the same plot."
   ]
  },
  {
   "cell_type": "code",
   "execution_count": null,
   "metadata": {},
   "outputs": [],
   "source": [
    "hist = ROOT.TH1F(\"1d\", \"Histogram from a Gaussian\", 100, -3, 3)\n",
    "one_d_hist.FillRandom(\"gaus\", 10000)\n",
    "\n",
    "# Fitting goes here\n",
    "falling_expo = ROOT.\n",
    "rising_expo = ROOT.\n",
    "\n",
    "one_d_hist.Fit(\"\")\n",
    "one_d_hist.Fit(\"\")"
   ]
  },
  {
   "cell_type": "markdown",
   "metadata": {},
   "source": [
    "## 4 RooFit <a name = \"Roofit\">"
   ]
  },
  {
   "cell_type": "markdown",
   "metadata": {},
   "source": [
    "Now we will discuss a more abstract, but more user-friendly, method to fitting which can readily be used to find mathematical moodels from a distribution in a TTree. The library is called Roofit and is already a part of ROOT so there is no further installation required. Simply call ``from ROOT import RooFit`` and you can access the library's functions. We will now delve into detail how to utilize Roofit's object oriented approach for fitting, but a quick reference can be found at: https://root.cern.ch/roofit-20-minutes."
   ]
  },
  {
   "cell_type": "markdown",
   "metadata": {},
   "source": [
    "### 4.1 RooRealVar <a name = \"Roofit\">\n",
    "RooRealVar's are objects which act as the variable of the function you build. A quick example of defining a RooRealVar:"
   ]
  },
  {
   "cell_type": "code",
   "execution_count": 42,
   "metadata": {},
   "outputs": [],
   "source": [
    "from ROOT import RooFit\n",
    "from ROOT import RooRealVar\n",
    "x = RooRealVar(\"top_pt\", \"top transverse momentum [MeV/c]\", 0, 800)"
   ]
  },
  {
   "cell_type": "markdown",
   "metadata": {},
   "source": [
    "Here we have defined the $x$ to our $f(x)$. As you can see, we have defined a name for this variable \"top_pt\", it's units \"MeV/c\", and the range over which we want to define our model. Typically it will not be useful to fit over $-\\infty$ to $\\infty$. Whatever distribution will not have values over this entire range, and this will make the fit algorithm work harder. Normally, you can view whatever distribution you plan on fitting in a TBrowser to get a good idea for what range you should pick. In this example we will be performing a fit of the top_pt from ee_ttbarsignalplustau.root."
   ]
  },
  {
   "cell_type": "markdown",
   "metadata": {},
   "source": [
    "### 4.2 RooDataset"
   ]
  },
  {
   "cell_type": "markdown",
   "metadata": {},
   "source": [
    "Before deciding on a model, lets get an idea of what the top_pt looks like. As stated earlier, you could do this in a TBrowser, but we will plot the distribution from a RooDataset for showcasing. First we grab the TTree object from the ROOT file."
   ]
  },
  {
   "cell_type": "code",
   "execution_count": 43,
   "metadata": {},
   "outputs": [
    {
     "name": "stdout",
     "output_type": "stream",
     "text": [
      "TTree imported!\n",
      "RooDataSet created from TTree of top_pt\n",
      "[#1] INFO:Eval -- RooAbsReal::attachToTree(top_pt) TTree Float_t branch top_pt will be converted to double precision\n",
      "[#1] INFO:Eval -- RooTreeDataStore::loadValues(data) Ignored 108 out of range events\n"
     ]
    }
   ],
   "source": [
    "from ROOT import TFile, TTree\n",
    "root_file = TFile.Open(\"../../Datasets/TTbar/ee_ttbarsignalplustau.root\")\n",
    "my_tree = root_file.Get(\"ttBar_treeVariables_step8;4\")\n",
    "print(\"TTree imported!\")\n",
    "\n",
    "from ROOT import RooDataSet, RooArgSet\n",
    "dataset = RooDataSet(\"data\", \"top_pt data\", my_tree, RooArgSet(x))\n",
    "print(\"RooDataSet created from TTree of top_pt\")\n"
   ]
  },
  {
   "cell_type": "markdown",
   "metadata": {},
   "source": [
    "The defined name of your x, for us \"top_pt\", tells RooDataSet which branch to read from the TTree into the dataset. Since we defined a range of $(0,800)$, RooFit won't import any events beyond this range. Here it ignored 108 events out of the range. But compared to 155,021 total events, this is negligible. Let's see what this dataset looks like."
   ]
  },
  {
   "cell_type": "code",
   "execution_count": 47,
   "metadata": {},
   "outputs": [
    {
     "name": "stderr",
     "output_type": "stream",
     "text": [
      "Info in <TCanvas::Print>: png file top_pt_data.png has been created\n"
     ]
    },
    {
     "data": {
      "image/png": "[encoded data removed]",
      "text/plain": [
       "<IPython.core.display.Image object>"
      ]
     },
     "metadata": {},
     "output_type": "display_data"
    }
   ],
   "source": [
    "from ROOT import TCanvas\n",
    "xframe = x.frame()\n",
    "dataset.plotOn(xframe, RooFit.Binning(50))\n",
    "canvas2 = TCanvas()\n",
    "xframe.Draw()\n",
    "canvas2.SaveAs(\"top_pt_data.png\")\n",
    "canvas2.Draw()\n"
   ]
  },
  {
   "cell_type": "markdown",
   "metadata": {},
   "source": [
    "In RooFit, it is quite easy to create and save a plot. `x.frame()` and `xframe.Draw()` take care of preparing the canvas for us from what we defined earlier. You can even change the binning to what you like when you plot the dataset to the frame. Try not to set the binning too course as you may lose some key features visually of the data. If you set the binning to 5, you may be convinced this is an exponential. Conversely if you set the binning to high, it becomes difficult and cluttered to read. Try it for yourself."
   ]
  },
  {
   "cell_type": "markdown",
   "metadata": {},
   "source": [
    "### 4.3 Fitting with RooAbsPdf\n",
    "Now we need to choose a probability density function (pdf) to model our dataset from. This is entirely guess work, but you should have a good idea where to start by looking at the initial distribution. We just need to give RooFit a reasonable guess that it can optimize for us. We could model try modeling the dataset off a combiniation of a gaussian and a decaying exponential. However, we will use a more complicated function called the Crystal Ball function (ref: https://en.wikipedia.org/wiki/Crystal_Ball_function). The Crystal Ball is a gaussian shape with a decaying tail and is commonly used in HEP. "
   ]
  },
  {
   "cell_type": "code",
   "execution_count": 29,
   "metadata": {},
   "outputs": [],
   "source": [
    "from ROOT import RooCBShape, RooAddPdf, RooArgList\n",
    "\n",
    "#Shared mean of Crystal Ball functions\n",
    "mean = RooRealVar(\"mean\", \"mean\", 100, 0, 200)\n",
    "\n",
    "#First Crystal ball fnction\n",
    "sigma_1 = RooRealVar(\"sigma_1\", \"sigma_1\", 100, 0, 1000)\n",
    "alpha_1 = RooRealVar(\"alpha_1\", \"alpha_1\", 1, 0, 100)\n",
    "n_1 = RooRealVar(\"n_1\", \"n_1\", 1, 0, 1000)\n",
    "cb_1 = RooCBShape(\"CB1\", \"CB1\", x, mean, sigma_1, alpha_1, n_1)\n",
    "\n",
    "#Second Crystal ball function\n",
    "sigma_2 = RooRealVar(\"sigma_2\", \"sigma_2\", 49, 0, 1000)\n",
    "alpha_2 = RooRealVar(\"alpha_2\", \"alpha_2\", -1, -100, 0)\n",
    "n_2 = RooRealVar(\"n_2\", \"n_2\", 1, 0, 10000)\n",
    "cb_2 = RooCBShape(\"CB2\", \"CB2\", x, mean, sigma_2, alpha_2, n_2)\n",
    "\n",
    "#Add PDFs\n",
    "rel_frac = RooRealVar(\"rel_frac\", \"Relative Fraction\", 0.2, 0.0, 1.0)\n",
    "model = RooAddPdf(\"model\", \"model\", RooArgList(cb_1, cb_2), RooArgList(rel_frac))"
   ]
  },
  {
   "cell_type": "markdown",
   "metadata": {},
   "source": [
    "This model is obviously complicated and has many parameters. The more complicated your model is, the more trouble RooFit will have getting a good fit. The initial values have been specially set to give us a good fit, but when you start from scratch it can take a while to figure out what works. Lets take a deeper look at how we create this model.  \n",
    "\n",
    "For every parameter of the model, we have to create a RooRealVar, give it an initial value, and give it a range. Once you have created a RooRealVar for each parameter, you feed them into the constructor of the RooAbsPdf. Each RooAbsPdf will have a different number of parameters. For example, a RooExponential only has 1 parameter while RooCBShape has 4.  \n",
    "\n",
    "Note that each Crystal Ball function shares the same mean. We use two Crystal Balls since the alpha parameter controls the direction of the trailing tail: left if its positive and right if its negative. We can see from our plot the tail trails to the right, but we will include both variants for generallity. RooFit will decide for itself which Crystal Ball has more weight. Next we want to add both functions together. However, we first must define a relative fraction variable since RooAddPdf is performing: $$f_{model}(x) = A*f_{CB1}(x)+(1-A)*f_{CB2}(x)$$ `rel_frac` is our A value here, which ranges from 0 to 1. Now let's fit our model to the $t_{pt}$."
   ]
  },
  {
   "cell_type": "code",
   "execution_count": 35,
   "metadata": {},
   "outputs": [
    {
     "name": "stdout",
     "output_type": "stream",
     "text": [
      "Fit complete!\n",
      "[#1] INFO:Minization -- RooMinimizer::optimizeConst: activating const optimization\n",
      "[#1] INFO:Minization --  The following expressions will be evaluated in cache-and-track mode: (CB1,CB2)\n",
      "[#1] INFO:Minization -- RooMinimizer::optimizeConst: deactivating const optimization\n"
     ]
    }
   ],
   "source": [
    "#Fit PDF to data\n",
    "model.fitTo(dataset, RooFit.PrintLevel(-1), RooFit.PrintEvalErrors(-1))\n",
    "print(\"Fit complete!\")"
   ]
  },
  {
   "cell_type": "markdown",
   "metadata": {},
   "source": [
    "The fit can take a while to complete: expect more complicated models to take longer. Let's take a look at the resulting fit."
   ]
  },
  {
   "cell_type": "code",
   "execution_count": 34,
   "metadata": {},
   "outputs": [
    {
     "name": "stdout",
     "output_type": "stream",
     "text": [
      "[#1] INFO:Plotting -- RooAbsPdf::plotOn(model) directly selected PDF components: (CB1)\n",
      "[#1] INFO:Plotting -- RooAbsPdf::plotOn(model) indirectly selected PDF components: ()\n",
      "[#1] INFO:Plotting -- RooAbsPdf::plotOn(model) directly selected PDF components: (CB2)\n",
      "[#1] INFO:Plotting -- RooAbsPdf::plotOn(model) indirectly selected PDF components: ()\n"
     ]
    },
    {
     "name": "stderr",
     "output_type": "stream",
     "text": [
      "Info in <TCanvas::Print>: pdf file top_pt_CBfit.pdf has been created\n"
     ]
    },
    {
     "data": {
      "image/png": "[encoded data removed]",
      "text/plain": [
       "<IPython.core.display.Image object>"
      ]
     },
     "metadata": {},
     "output_type": "display_data"
    }
   ],
   "source": [
    "from ROOT import kRed, kGreen\n",
    "#Plot data_set, model, and components of the model\n",
    "xframe = x.frame()\n",
    "dataset.plotOn(xframe)\n",
    "model.plotOn(xframe)\n",
    "model.plotOn(xframe, RooFit.Components(\"CB1\"), RooFit.LineColor(kRed))\n",
    "model.plotOn(xframe, RooFit.Components(\"CB2\"), RooFit.LineColor(kGreen))\n",
    "canvas3 = TCanvas()\n",
    "xframe.Draw()\n",
    "canvas3.SaveAs(\"top_pt_CBfit.pdf\")\n",
    "canvas3.Draw()\n"
   ]
  },
  {
   "cell_type": "markdown",
   "metadata": {},
   "source": [
    "The blue line represents our model, while the green and red line are the individual Crystal Balls. We can see this model fits quite well."
   ]
  },
  {
   "cell_type": "markdown",
   "metadata": {},
   "source": [
    "### 4.4 Exercise\n",
    "Instead of using two Crystal Balls, fit a gaussian and an exponential to the dataset. Compare the two resulting models. Which one fits better?"
   ]
  },
  {
   "cell_type": "code",
   "execution_count": 36,
   "metadata": {},
   "outputs": [],
   "source": [
    "import ROOT\n",
    "from ROOT import RooAddPdf, RooArgSet, RooArgList\n",
    "from ROOT import RooGaussian, RooExponential\n",
    "\n",
    "#Define Observable\n",
    "\n",
    "\n",
    "#Define gaussian parameters and create RooGaussian\n",
    "\n",
    "\n",
    "#Define exponential parameter and create RooExponential\n",
    "\n",
    "\n",
    "#Define relative fraction and combine the RooGaussian and RooExponential to a model\n",
    "\n",
    "\n",
    "#Import TTree from ROOT file and create RooDataSet\n",
    "\n",
    "\n",
    "#Fit model to RooDataSet\n",
    "\n",
    "\n",
    "#Plot the RooDataSet, the model, and it's components.\n",
    "\n"
   ]
  },
  {
   "cell_type": "markdown",
   "metadata": {},
   "source": [
    "Tips:\n",
    "* When calling `fitTo()` do not supress the print. It will give you an idea of what values the parameters are settling on. \n",
    "* If a parameter is set to it's limit, you need to expand the range the parameter can be set to. If a parameter has a high error, consider changing the initial values closer to what you think will work."
   ]
  },
  {
   "cell_type": "code",
   "execution_count": null,
   "metadata": {},
   "outputs": [],
   "source": []
  }
 ],
 "metadata": {
  "kernelspec": {
   "display_name": "Python 2",
   "language": "python",
   "name": "python2"
  },
  "language_info": {
   "codemirror_mode": {
    "name": "ipython",
    "version": 2
   },
   "file_extension": ".py",
   "mimetype": "text/x-python",
   "name": "python",
   "nbconvert_exporter": "python",
   "pygments_lexer": "ipython2",
   "version": "2.7.15rc1"
  }
 },
 "nbformat": 4,
 "nbformat_minor": 2
}
