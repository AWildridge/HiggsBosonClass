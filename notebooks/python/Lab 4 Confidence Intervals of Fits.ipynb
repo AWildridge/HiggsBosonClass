{
 "cells": [
  {
   "cell_type": "markdown",
   "metadata": {},
   "source": [
    "# Lab 4 Confidence Intervals of Fits"
   ]
  },
  {
   "cell_type": "markdown",
   "metadata": {},
   "source": [
    "## Table of Contents\n",
    "1. **[Errors of Fits](#errors_of_fits)**  \n",
    "    1.1 **[Confidence Intervals with TGraphs](#CI_TG)**  \n",
    "    1.2 **[1.2 Confidence Intervals with TH1F and TH1D](#CI_TH1D)**  \n",
    "    1.3 **[1.3 Exercise](#exercise)**"
   ]
  },
  {
   "cell_type": "markdown",
   "metadata": {},
   "source": [
    "## 1. Errors of Fits <a name=\"errors_of_fits\" />\n",
    "\n",
    "### 1.1 Confidence Intervals with TGraphs <a name=\"CI_TG\" />\n",
    "When assessing the uncertainty of a fit, we can not simply use the error of the parameters to compute a 'band of error'. Each parameter is coorelated and their errors as a result are also coorelated. Therefore, we must use statistical analyses to compute these error bands at a certain confidence interval. To illustrate this concept, we will be using the ``TF1`` and ``TVirtualFitter`` classes from ``ROOT``.\n",
    "First, we will start with the simplest example: fit a line to datapoints generated from a linear function smeared with a gaussian. "
   ]
  },
  {
   "cell_type": "code",
   "execution_count": null,
   "metadata": {},
   "outputs": [],
   "source": [
    "import ROOT\n",
    "from ROOT import TGraph, gRandom, TCanvas, TGraphErrors, TVirtualFitter\n",
    "import numpy as np"
   ]
  },
  {
   "cell_type": "code",
   "execution_count": null,
   "metadata": {},
   "outputs": [],
   "source": [
    "#generate linear datapoints smeared with a gaussian\n",
    "m = 2 #slope of the line\n",
    "b = 0 #y-intercept of the line\n",
    "ngr = 100 #number of datapoints\n",
    "gr = TGraph(ngr)\n",
    "\n",
    "for i in range(ngr):\n",
    "    x = gRandom.Uniform(0,1) #randomly pick a value between 0 and 1\n",
    "    y = b + m*x + gRandom.Gaus(0,0.4) #evaluate function at x smear with a gaussian of mean 0, and sigma 0.4\n",
    "    gr.SetPoint(i,x,y) #add the point to the TGraph\n",
    "    "
   ]
  },
  {
   "cell_type": "code",
   "execution_count": null,
   "metadata": {},
   "outputs": [],
   "source": [
    "#Draw the TGraph 'gr'\n",
    "canvas = TCanvas(\"canvas_1\", \"Confidence intervals of the fitted function\", 1200, 500)\n",
    "gr.SetName(\"Graph Smeared w/ Gaussian\")\n",
    "gr.SetMarkerStyle(5)\n",
    "gr.SetMarkerSize(0.7)\n",
    "gr.Draw(\"AP\")\n",
    "canvas.Draw()"
   ]
  },
  {
   "cell_type": "markdown",
   "metadata": {},
   "source": [
    "Now lets fit a line to these datapoints. Recall how the ``TF1`` class is constructed from Lab 2. Since we generated these datapoints, we know what the values of the final fit should be. We will set the initial values of our parameters to the values of the function we generated the points from."
   ]
  },
  {
   "cell_type": "code",
   "execution_count": null,
   "metadata": {},
   "outputs": [],
   "source": [
    "#Create Fit Function\n",
    "fitting_function = ROOT.TF1(\"linear\", \"[0]*x + [1]\", 0, 1)\n",
    "fitting_function.SetParameter(0, 2)\n",
    "fitting_function.SetParameter(1, 0)\n",
    "\n",
    "#Fit fitting function with TGraph\n",
    "fitting_function.SetLineWidth(2)\n",
    "gr.Fit(fitting_function, \"S\")"
   ]
  },
  {
   "cell_type": "markdown",
   "metadata": {},
   "source": [
    "Once the function is fit to the datapoints of the TGraph, we can use ``TVirtualFitter`` and ``TGraphErrors`` to create a graph that holds the confidence intervals. We will compute the $95\\%$ confidence interval of our fit, or the band where we are $95\\%$ sure the fit lies within."
   ]
  },
  {
   "cell_type": "code",
   "execution_count": null,
   "metadata": {
    "scrolled": true
   },
   "outputs": [],
   "source": [
    "grint = TGraphErrors(ngr)\n",
    "grint.SetTitle(\"Fitted line with .95 conf. band\")\n",
    "x_values = np.arange(0.0, 1.01, (1.0-0.0)/ngr)\n",
    "for i in range(len(x_values)):\n",
    "    grint.SetPoint(i, x_values[i], 0)\n",
    "    ##Compute CI at x points\n",
    "    TVirtualFitter.GetFitter().GetConfidenceIntervals(grint, 0.95)\n",
    "    ##Now 'grint' graph contains function values as y-coordinates\n",
    "    ##and confident intervals as the errors on these coordinates\n",
    "    ##Draw the graph, the function, and the confidence intervals\n",
    "    \n",
    "grint.SetLineColor(ROOT.kRed)\n",
    "grint.Draw(\"ap\")\n",
    "grint.Draw(\"E3same\")\n",
    "gr.SetMarkerStyle(5)\n",
    "gr.SetMarkerSize(0.7)\n",
    "gr.Draw(\"psame\")\n",
    "canvas.Draw()"
   ]
  },
  {
   "cell_type": "markdown",
   "metadata": {},
   "source": [
    "Now, along with our fit, we have plotted the band of $95\\%$ confidence. Now we will see this idea in the context of histograms which is more Dapplicable in the field of HEP."
   ]
  },
  {
   "cell_type": "markdown",
   "metadata": {},
   "source": [
    "### 1.2 Confidence Intervals with TH1F and TH1D <a name=\"CI_TH1D\" />\n",
    "Let's begin by filling a histogram from a gaussian distribution."
   ]
  },
  {
   "cell_type": "code",
   "execution_count": null,
   "metadata": {},
   "outputs": [],
   "source": [
    "canvas_2 = TCanvas(\"canvas_2\", \"Confidence intervals of the fitted function\", 1200, 500)\n",
    "\n",
    "#Create Hist\n",
    "hist = ROOT.TH1F(\"h\", \"Fitted Gaussian with a .95 conf. band\", 100, -3, 3) #Create histogram with 100 bins from -3 to 3\n",
    "nh = 5000 #5000 events\n",
    "hist.FillRandom(\"gaus\", nh)"
   ]
  },
  {
   "cell_type": "markdown",
   "metadata": {},
   "source": [
    "Now that we've filled the histogram from a random gaussian, lets create the fitting function. Since we filled it from a gaussian, we will fit it with the pre-defined ``TF1`` gaussian."
   ]
  },
  {
   "cell_type": "code",
   "execution_count": null,
   "metadata": {},
   "outputs": [],
   "source": [
    "fgaus = ROOT.TF1(\"fgaus\", \"gaus\", -3, 3)\n",
    "fgaus.SetLineWidth(2)\n",
    "hist.Fit(fgaus)\n",
    "hist.Draw()\n",
    "canvas_2.Draw()"
   ]
  },
  {
   "cell_type": "markdown",
   "metadata": {},
   "source": [
    "Now that we have filled the histogram and fitted it with a gaussian, let us now compute the $95\\%$ confidence interval band. This is done very similarly to the way with TGraphs.The only difference is that we don't have to iterate through where to draw the confidence interval. "
   ]
  },
  {
   "cell_type": "code",
   "execution_count": null,
   "metadata": {},
   "outputs": [],
   "source": [
    "#Create Hist to hold confidence intervals\n",
    "hint = ROOT.TH1D('hint', \"Fitted gaussian with a .95 conf. band\", 100, -3, 3)\n",
    "TVirtualFitter.GetFitter().GetConfidenceIntervals(hint)\n",
    "#Now the 'hint' histogram has the fitted function values\n",
    "#as the bin contents and the CI as bin errors\n",
    "hint.SetStats(ROOT.kFALSE)\n",
    "fFillColor = ROOT.TColor.GetColorTransparent(ROOT.kRed, 0.2)\n",
    "hint.SetFillColor(fFillColor)\n",
    "#Must Draw in this order since we want the axis range to be determined from hist\n",
    "#since using an transparent fill color, hist must be drawn on-top of hint\n",
    "hist.Draw()\n",
    "hint.Draw(\"e3same\")\n",
    "canvas_2.Draw()"
   ]
  },
  {
   "cell_type": "markdown",
   "metadata": {},
   "source": [
    "### 1.3 Exercise <a name=\"exercise\" />\n",
    "\n",
    "Generate a random scatterplot of 200 points from a line of slope $5$, and y-intercept of $-2$ smeared with a gaussian of mean $0$, and sigma $1$ over $x=(-5,5)$. Then fit a line to this scatterplot and plot the $90\\%$ confidence interval band."
   ]
  },
  {
   "cell_type": "code",
   "execution_count": null,
   "metadata": {},
   "outputs": [],
   "source": [
    "canvas_3 = TCanvas(\"canvas_2\", \"Confidence intervals of the fitted function\", 1200, 500)\n",
    "canvas_3.divide(2,1)\n",
    "canvas_3.cd(1)\n",
    "\n",
    "#Generate scatterplot\n",
    "\n",
    "#Create TGraph\n",
    "\n",
    "#Create Fitting Function\n",
    "\n",
    "#Fit fitting function with TGraph\n",
    "\n",
    "#Create TGraphErrors and get CI at 90% confidence\n",
    "\n",
    "#Draw the TGraph, Function, and confidence intervals\n"
   ]
  },
  {
   "cell_type": "markdown",
   "metadata": {},
   "source": [
    "Generate a histogram with 100 bins from 0 to 5, and randomly fill it with 10000 entries from $f(x) = e^{-5x}$. Then fit this histogram with an exponential and find the $80\\%$ confidence interval band."
   ]
  },
  {
   "cell_type": "code",
   "execution_count": null,
   "metadata": {},
   "outputs": [],
   "source": [
    "canvas_3.cd(2)\n",
    "\n",
    "#Create histogram and fill from a falling exponential\n",
    "\n",
    "#Create fitting function and fit to histogram\n",
    "\n",
    "#Create histogram holding confidence intervals\n",
    "\n",
    "#Draw histogram, fitted function, and 80% CI band\n",
    "\n",
    "#draw canvas_3\n",
    "canvas_3.Draw()"
   ]
  }
 ],
 "metadata": {
  "kernelspec": {
   "display_name": "Python 2",
   "language": "python",
   "name": "python2"
  },
  "language_info": {
   "codemirror_mode": {
    "name": "ipython",
    "version": 2
   },
   "file_extension": ".py",
   "mimetype": "text/x-python",
   "name": "python",
   "nbconvert_exporter": "python",
   "pygments_lexer": "ipython2",
   "version": "2.7.15rc1"
  }
 },
 "nbformat": 4,
 "nbformat_minor": 2
}
