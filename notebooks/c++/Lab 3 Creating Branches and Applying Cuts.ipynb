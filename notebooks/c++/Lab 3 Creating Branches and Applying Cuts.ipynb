{
 "cells": [
  {
   "cell_type": "markdown",
   "metadata": {},
   "source": [
    "# Lab 3: Creating Branches and Applying Cuts"
   ]
  },
  {
   "cell_type": "markdown",
   "metadata": {},
   "source": [
    "## Table of Contents\n",
    "1. **[Creating Branches](#creating-branches)**  \n",
    "    1.1. [Converting Momentum Coordinate Systems](#conv-momentum)  \n",
    "    1.2. [Calculating ($P_x, P_y, P_z$)](#calc-momentum)  \n",
    "    1.3. [Exercise](#exercise-1.3)\n",
    "2. **[Cuts on TTree Branches](#cuts)**  \n",
    "    2.1. [Applying Cuts](#apply-cuts)  \n",
    "    2.2. [Exercise](#exercise-2.2)"
   ]
  },
  {
   "cell_type": "markdown",
   "metadata": {},
   "source": [
    "## 1. Creating Branches <a name=\"creating-branches\" />\n",
    "Often, you find you will want to create a new distribution from existing distributions in a ROOT file to calculate certain physical values that aren't already calculated. This can involve transforming the coordinate system of the momentum, calculating invariant masses of particles, or writing the classification of an event from the decision of a neural network."
   ]
  },
  {
   "cell_type": "markdown",
   "metadata": {},
   "source": [
    "### 1.1 Transforming Momentum Coordinate System <a name=\"trans-momentum\" />\n",
    "The detector does not store the momentum of each particle as $(P_x, P_y, P_z)$. Instead, momentum information is stored as $(P_t, \\phi, \\eta)$. These coordinate systems are related by the following equations:\n",
    "$$P_x = P_t \\times cos(\\phi)$$\n",
    "$$P_y = P_t \\times sin(\\phi)$$\n",
    "$$P_z = P_t \\times sinh(\\eta)$$"
   ]
  },
  {
   "cell_type": "code",
   "execution_count": 1,
   "metadata": {},
   "outputs": [
    {
     "name": "stdout",
     "output_type": "stream",
     "text": [
      "TTree imported!"
     ]
    }
   ],
   "source": [
    "TFile * root_file = TFile::Open(\"../../Datasets/TTbar/ee_ttbarsignalplustau.root\");\n",
    "TTree * tree = (TTree *) root_file->Get(\"ttBar_treeVariables_step8;4\");\n",
    "printf(\"TTree imported!\");"
   ]
  },
  {
   "cell_type": "markdown",
   "metadata": {},
   "source": [
    "Now we have a `TTree` with all of the branches from the `TFile`'s `TTree`. We will use the `std::map` object for storing the calculated $P_x, P_y,$ and $P_z$ momentums. The `key` will be a `std::string` object representing the particle's component, e.g. `\"top_px`, and the element will be a `std::vector<float>` as this will be the container used to store all of our particle's component data. A `std::vector` is being used as the size grows dynamically and is therefore a nice container for values. We need to grab the $P_t$, $\\phi$, and $\\eta$ for the $t, \\bar{t}, b, \\bar{b}, l$, and $\\bar{l}$. Instead of typing each particle's name by hand, we will fill a `std::vector<string>` with these branch names that we need."
   ]
  },
  {
   "cell_type": "code",
   "execution_count": 2,
   "metadata": {},
   "outputs": [],
   "source": [
    "#include <vector>\n",
    "#include <string>\n",
    "#include <map>\n",
    "using namespace std;\n",
    "\n",
    "map<string, vector<float>> cartesianDistributions;\n",
    "vector<string> particles{\"top\", \"tbar\", \"l\", \"lbar\", \"b\", \"bbar\"};\n",
    "\n",
    "for(string particle : particles) {\n",
    "    cartesianDistributions.insert(pair<string, vector<float>>(particle + \"_px\", *(new vector<float>{})));\n",
    "    cartesianDistributions.insert(pair<string, vector<float>>(particle + \"_py\", *(new vector<float>{})));\n",
    "    cartesianDistributions.insert(pair<string, vector<float>>(particle + \"_pz\", *(new vector<float>{})));\n",
    "}"
   ]
  },
  {
   "cell_type": "markdown",
   "metadata": {},
   "source": [
    "Now we need $(P_t, \\phi, \\eta)$ for each particle. Let's get these distributions from the `TTree`."
   ]
  },
  {
   "cell_type": "code",
   "execution_count": 3,
   "metadata": {
    "scrolled": true
   },
   "outputs": [],
   "source": [
    "using namespace std;\n",
    "\n",
    "vector<string> components{\"_pt\", \"_phi\", \"_eta\"};\n",
    "\n",
    "map<string, vector<float>> distributions;\n",
    "\n",
    "for(string particle : particles) {\n",
    "    for(string component : components) {\n",
    "        if((particle.compare(\"top\") == 0 || particle.compare(\"tbar\") == 0) && component.compare(\"_eta\") == 0) {\n",
    "            component = \"_rapidity\"; // top quark eta is labeled rapidity...means same thing\n",
    "        }\n",
    "        Float_t f = 0.0;\n",
    "        string particleComponent = particle + component;\n",
    "        tree->SetBranchAddress(particleComponent.c_str(), &f);\n",
    "        Int_t nEntries = (Int_t) tree->GetEntries();\n",
    "        vector<float> partiCompoDistr; // This will hold all of our data for all of our particles' component\n",
    "        for(Int_t i = 0; i < nEntries; ++i) {\n",
    "            tree->GetEntry(i);\n",
    "            partiCompoDistr.push_back(f);\n",
    "        }\n",
    "        distributions.insert(pair<string, vector<float>>(particleComponent, partiCompoDistr));\n",
    "    }\n",
    "}\n"
   ]
  },
  {
   "cell_type": "markdown",
   "metadata": {},
   "source": [
    "Now that we have all of the vector components loaded for all of our events, we can start performing our transformation of coordinate systems."
   ]
  },
  {
   "cell_type": "markdown",
   "metadata": {},
   "source": [
    "### 1.2 Calculating ($P_x, P_y, P_z$) <a name=\"calc-momentum\" />\n",
    "Now that we have the distributions, we can perform calculations. We will work with each particle individually and will be calculating the $P_x, P_y,$ and $P_z$. While we are performing these calculations we will be writing them to a `TTree`. Afterwards, we will save the `TTree` as a `TFile` and write that file to our hard drive."
   ]
  },
  {
   "cell_type": "markdown",
   "metadata": {},
   "source": [
    "_Note: This seems to not work within Jupyter, but does work outside of Jupyter. I am thinking it may be due to memory issues..._"
   ]
  },
  {
   "cell_type": "code",
   "execution_count": 4,
   "metadata": {},
   "outputs": [],
   "source": [
    "#include <math.h>\n",
    "\n",
    "TFile outputFile(\"ee_ttbarsignalplustau_cartesian.root\", \"RECREATE\");\n",
    "TTree cartesianTree(\"CartesianTree\", \"Tree that has Cartesian vector components for our particles\");\n",
    "\n",
    "/*\n",
    "TODO: Make this work with a for loop like commented on below. For some reason this adds 6x the number of entries\n",
    "It's probably not a coincidence we have 6 particles and its filling 6x number of entries. Not sure why though.\n",
    "Brownie points to whoever figures it out...\n",
    "*/\n",
    "vector<float> top_pts = distributions[\"top_pt\"];\n",
    "vector<float> tbar_pts = distributions[\"tbar_pt\"];\n",
    "vector<float> top_phis = distributions[\"top_phi\"];\n",
    "vector<float> tbar_phis = distributions[\"tbar_phi\"];\n",
    "vector<float> top_etas = distributions[\"top_rapidity\"];\n",
    "vector<float> tbar_etas = distributions[\"tbar_rapidity\"];\n",
    "\n",
    "vector<float> l_pts = distributions[\"l_pt\"];\n",
    "vector<float> lbar_pts = distributions[\"lbar_pt\"];\n",
    "vector<float> l_phis = distributions[\"l_phi\"];\n",
    "vector<float> lbar_phis = distributions[\"lbar_phi\"];\n",
    "vector<float> l_etas = distributions[\"l_eta\"];\n",
    "vector<float> lbar_etas = distributions[\"lbar_eta\"];\n",
    "\n",
    "vector<float> b_pts = distributions[\"b_pt\"];\n",
    "vector<float> bbar_pts = distributions[\"bbar_pt\"];\n",
    "vector<float> b_phis = distributions[\"b_phi\"];\n",
    "vector<float> bbar_phis = distributions[\"bbar_phi\"];\n",
    "vector<float> b_etas = distributions[\"b_eta\"];\n",
    "vector<float> bbar_etas = distributions[\"bbar_eta\"];\n",
    "\n",
    "float top_px, top_py, top_pz = 0;\n",
    "float tbar_px, tbar_py, tbar_pz = 0;\n",
    "float l_px, l_py, l_pz = 0;\n",
    "float lbar_px, lbar_py, lbar_pz = 0;\n",
    "float b_px, b_py, b_pz = 0;\n",
    "float bbar_px, bbar_py, bbar_pz = 0;\n",
    "\n",
    "// Create the branches...\n",
    "cartesianTree.Branch(\"top_px\", &top_px, \"top_px/F\");\n",
    "cartesianTree.Branch(\"top_py\", &top_py, \"top_py/F\");\n",
    "cartesianTree.Branch(\"top_pz\", &top_pz, \"top_pz/F\");\n",
    "\n",
    "cartesianTree.Branch(\"tbar_px\", &tbar_px, \"tbar_px/F\");\n",
    "cartesianTree.Branch(\"tbar_py\", &tbar_py, \"tbar_py/F\");\n",
    "cartesianTree.Branch(\"tbar_pz\", &tbar_pz, \"tbar_pz/F\");\n",
    "\n",
    "cartesianTree.Branch(\"l_px\", &l_px, \"l_px/F\");\n",
    "cartesianTree.Branch(\"l_py\", &l_py, \"l_py/F\");\n",
    "cartesianTree.Branch(\"l_pz\", &l_pz, \"l_pz/F\");\n",
    "\n",
    "cartesianTree.Branch(\"lbar_px\", &lbar_px, \"lbar_px/F\");\n",
    "cartesianTree.Branch(\"lbar_py\", &lbar_py, \"lbar_py/F\");\n",
    "cartesianTree.Branch(\"lbar_pz\", &lbar_pz, \"lbar_pz/F\");\n",
    "\n",
    "cartesianTree.Branch(\"b_px\", &b_px, \"b_px/F\");\n",
    "cartesianTree.Branch(\"b_py\", &b_py, \"b_py/F\");\n",
    "cartesianTree.Branch(\"b_pz\", &b_pz, \"b_pz/F\");\n",
    "\n",
    "cartesianTree.Branch(\"bbar_px\", &bbar_px, \"bbar_px/F\");\n",
    "cartesianTree.Branch(\"bbar_py\", &bbar_py, \"bbar_py/F\");\n",
    "cartesianTree.Branch(\"bbar_pz\", &bbar_pz, \"bbar_pz/F\");\n",
    "\n",
    "// There are the same number of entries in all of them, so we can just use top_pts to cycle through\n",
    "for(int i = 0; i < top_pts.size(); i++) {\n",
    "    top_px = top_pts[i] * cos(top_phis[i]);\n",
    "    top_py = top_pts[i] * sin(top_phis[i]);\n",
    "    top_pz = top_pts[i] * sinh(top_etas[i]);\n",
    "    \n",
    "    tbar_px = tbar_pts[i] * cos(tbar_phis[i]);\n",
    "    tbar_py = tbar_pts[i] * sin(tbar_phis[i]);\n",
    "    tbar_pz = tbar_pts[i] * sinh(tbar_etas[i]);\n",
    "\n",
    "    l_px = l_pts[i] * cos(l_phis[i]);\n",
    "    l_py = l_pts[i] * sin(l_phis[i]);\n",
    "    l_pz = l_pts[i] * sinh(l_etas[i]);\n",
    "    \n",
    "    lbar_px = lbar_pts[i] * cos(lbar_phis[i]);\n",
    "    lbar_py = lbar_pts[i] * sin(lbar_phis[i]);\n",
    "    lbar_pz = lbar_pts[i] * sinh(lbar_etas[i]);\n",
    "    \n",
    "    b_px = b_pts[i] * cos(b_phis[i]);\n",
    "    b_py = b_pts[i] * sin(b_phis[i]);\n",
    "    b_pz = b_pts[i] * sinh(b_etas[i]);\n",
    "    \n",
    "    bbar_px = bbar_pts[i] * cos(bbar_phis[i]);\n",
    "    bbar_py = bbar_pts[i] * sin(bbar_phis[i]);\n",
    "    bbar_pz = bbar_pts[i] * sinh(bbar_etas[i]); \n",
    "    \n",
    "    cartesianTree.Fill();\n",
    "} \n",
    "                                       \n",
    "cartesianTree.Write(\"decayTree\", TObject::kOverwrite);"
   ]
  },
  {
   "cell_type": "markdown",
   "metadata": {},
   "source": [
    "Now we can open a `TBrowser` through the interactive ROOT with our terminal and look at the results! You will see that the z momentum follows a different distribution than the x and y momentums. You will also see a dip in the momentum of the lepton around zero."
   ]
  },
  {
   "cell_type": "markdown",
   "metadata": {},
   "source": [
    "_This is how it should be written...much cleaner ...just adds 6x more entries..._"
   ]
  },
  {
   "cell_type": "code",
   "execution_count": null,
   "metadata": {},
   "outputs": [],
   "source": [
    "#include <math.h>\n",
    "\n",
    "TFile outputFile(\"ee_ttbarsignalplustau_cartesian.root\", \"RECREATE\");\n",
    "TTree cartesianTree(\"CartesianTree\", \"Tree that has Cartesian vector components for our particles\");\n",
    "\n",
    "for(string particle : particles) {\n",
    "    // get our pt's, eta's, and phi's\n",
    "    vector<float> pts = distributions[particle + \"_pt\"];\n",
    "    vector<float> phis = distributions[particle + \"_phi\"];\n",
    "    vector<float> etas;\n",
    "    if(particle.compare(\"top\") == 0 || particle.compare(\"tbar\") == 0) {\n",
    "        etas = distributions[particle + \"_rapidity\"];\n",
    "    } else {\n",
    "        etas = distributions[particle + \"_eta\"];\n",
    "    }\n",
    "    printf(\"The size of the %s pts is %i, phis is %i, and etas is %i. \\n\", particle.c_str(), pts.size(), phis.size(), etas.size());\n",
    "    // Create some variables to represent the px, py, and pz\n",
    "    float px, py, pz = 0;\n",
    "    \n",
    "    // Create the branches...\n",
    "    cartesianTree.Branch((particle + \"_px\").c_str(), &px, \"px/F\");\n",
    "    cartesianTree.Branch((particle + \"_py\").c_str(), &py, \"py/F\");\n",
    "    cartesianTree.Branch((particle + \"_pz\").c_str(), &pz, \"pz/F\");\n",
    "\n",
    "    // Now store them in our other vector<float> objects...\n",
    "    for(int i = 0; i < pts.size(); ++i) {\n",
    "        cartesianTree.GetEntry(i);\n",
    "        px = pts[i] * cos(phis[i]);\n",
    "        py = pts[i] * sin(phis[i]);\n",
    "        pz = pts[i] * sinh(etas[i]);\n",
    "        cartesianTree.Fill();\n",
    "    }\n",
    "}\n",
    "// Write the TTree\n",
    "cartesianTree.Write(\"decayTree\", TObject::kOverwrite);\n",
    "\n",
    "// Write ROOT file\n",
    "outputFile.Write();\n",
    "outputFile.Close();"
   ]
  },
  {
   "cell_type": "markdown",
   "metadata": {},
   "source": [
    "### 1.3 Exercise <a name=\"exercise-1.3\" />\n",
    "With the ROOT file created above, calculate the magnitude of the momentum for each particle and create a new ROOT file with your new distributions."
   ]
  },
  {
   "cell_type": "code",
   "execution_count": null,
   "metadata": {},
   "outputs": [],
   "source": [
    "// Code here...?? (might be best to make a script)"
   ]
  },
  {
   "cell_type": "markdown",
   "metadata": {},
   "source": [
    "## 2. Cuts on TTree Branches <a name=\"cuts\" />"
   ]
  },
  {
   "cell_type": "markdown",
   "metadata": {},
   "source": [
    "During an analysis, one of your objectives is to remove background from your data while retaining signal. Removing events from your data is called applying \"cuts\". In this lab, we will not discuss how to decide what is a good cut. We will simply go over how to apply them and create an output ROOT file.\n",
    "\n",
    "### 2.1 Applying Cuts <a name=\"apply-cuts\" />\n",
    "In ROOT, cuts are given as strings. You define the branch you wish to cut on, give a boolean operator, and the value you wish to cut at. You can use ``&&`` to pass multiple cuts at once. An example of a cut string is ``\"top_pt > 0 && tbar_pt > 0\"``. You can apply no cut by defining ``selection = \"1\"``. Let's apply the first cut to our ROOT file."
   ]
  },
  {
   "cell_type": "code",
   "execution_count": 1,
   "metadata": {},
   "outputs": [],
   "source": [
    "// Define what cut to apply to the data\n",
    "string selection = \"top_pt >= 100 && tbar_pt >= 100\";\n",
    "\n",
    "// Retreieve ROOT file and TTree\n",
    "TFile * sourceFile = TFile::Open(\"../../Datasets/TTbar/ee_ttbarsignalplustau.root\");\n",
    "TTree * sourceTree = (TTree *) sourceFile->Get(\"ttBar_treeVariables_step8\");\n",
    "\n",
    "// Create Destination ROOT file for TTree\n",
    "TFile newFile(\"../../Datasets/TTbar/ee_ttbarsignalplustau_ttbar_pt_cut.root\", \"RECREATE\");\n",
    "\n",
    "// Cut and Copy Tree\n",
    "TTree * cutTree = sourceTree->CopyTree(selection.c_str());\n",
    "\n",
    "// Write cut Tree to a ROOT file\n",
    "cutTree->Write(\"DecayTree\", TObject::kWriteDelete);\n",
    "\n",
    "// Write ROOT file\n",
    "newFile.Write();\n",
    "newFile.Close();"
   ]
  },
  {
   "cell_type": "markdown",
   "metadata": {},
   "source": [
    "``TTree.CopyTree(selection)`` is a TTree method which returns a copy of a TTree with the cut defined in selection applied. It is important that you create the output root file, before you call ``TTree.CopyTree()``. When you call ``TTree.CopyTree()``, ROOT internally assigns the returned TTree to a ROOT file. If you call ``TTree.CopyTree()`` before you create the output ROOT file, the TTree will not be assigned to the output ROOT file and cannot be written.\n",
    "\n",
    "After a cut you will have less events than you started with. Thus we define the efficiency of a cut as: $$efficiency = \\frac{N_{after}}{N_{before}}$$\n",
    "where $N$ is the number of events. During an analysis you will want to keep track of the effeciency of every cut you apply. You could go into TBrowser and look at the number of entries at every stage, but is easier to have your script give you the efficiency. ``TTree.GetEntries()`` will give you the total number of events in a tree. We can calculate the efficiency quickly in our script:"
   ]
  },
  {
   "cell_type": "code",
   "execution_count": 2,
   "metadata": {},
   "outputs": [
    {
     "name": "stdout",
     "output_type": "stream",
     "text": [
      "The efficiency of top_pt >= 100 && tbar_pt >= 100 is: 0.581624"
     ]
    }
   ],
   "source": [
    "float nEntriesBefore = (float) sourceTree->GetEntries();\n",
    "// We need to get the cutTree again because it is a virtual TTree\n",
    "cutTree = sourceTree->CopyTree(selection.c_str());\n",
    "float nEntriesAfter = (float) cutTree->GetEntries();\n",
    "float efficiency = nEntriesAfter / nEntriesBefore;\n",
    "printf(\"The efficiency of %s is: %f\", selection.c_str(), efficiency);"
   ]
  },
  {
   "cell_type": "markdown",
   "metadata": {},
   "source": [
    "Usually this efficiency is in terms of your signal, as was stated earlier. So cuts will drastically reduce the efficiency of your background data, but should not effect the efficiency of your signal data.\n"
   ]
  },
  {
   "cell_type": "markdown",
   "metadata": {},
   "source": [
    "### 2.2 Exercise <a name=\"exercise-2.2\" />\n",
    "Starting from the original ROOT file ``ee_ttbarsignalplustau.root``, apply the following cuts:\n",
    "$$\n",
    "\\begin{align*}\n",
    "t_{pt} &> 0\\\\\n",
    "t_{pt} &< 800\\\\\n",
    "\\bar{t}_{pt} &> 0\\\\\n",
    "\\bar{t}_{pt} &< 800\\\\\n",
    "\\end{align*}\n",
    "$$\n",
    "\n",
    "Then find the efficiency of each cut at each stage of selection, and the total combined efficiency of all the cuts.  \n",
    "\n",
    "Hint: ``TTree.GetEntries()`` can also take a cut as an argument and give you the number of events which pass the cut. This bypasses having 4 ROOT files with different cut levels."
   ]
  },
  {
   "cell_type": "code",
   "execution_count": null,
   "metadata": {},
   "outputs": [],
   "source": [
    "// Code goes here"
   ]
  }
 ],
 "metadata": {
  "kernelspec": {
   "display_name": "ROOT C++",
   "language": "c++",
   "name": "root"
  },
  "language_info": {
   "codemirror_mode": "text/x-c++src",
   "file_extension": ".C",
   "mimetype": " text/x-c++src",
   "name": "c++"
  }
 },
 "nbformat": 4,
 "nbformat_minor": 2
}
