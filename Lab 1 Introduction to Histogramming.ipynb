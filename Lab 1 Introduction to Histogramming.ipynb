{
 "cells": [
  {
   "cell_type": "markdown",
   "metadata": {},
   "source": [
    "# Lab 1: Introduction to Histogramming in ROOT\n",
    "\n",
    "![alt-text](http://rsta.royalsocietypublishing.org/content/roypta/373/2032/20140384/F23.large.jpg?width=800&height=600&carousel=1 \"\")"
   ]
  },
  {
   "cell_type": "markdown",
   "metadata": {},
   "source": [
    "## Table of Contents\n",
    "1. **[Sample Histograms](#sample-histograms)**\n",
    "2. **[Creating a Histogram](#creating-histogram)**  \n",
    "   2.1. [Exercise](#create-hist-exercise)  \n",
    "3. **[Filling Histograms](#filling-histograms)**  \n",
    "   3.1. [Fill Method](#fill-method)  \n",
    "   3.2. [Random Method](#random-method)  \n",
    "   3.3. [Exercise](#fill-hist-exercise)  "
   ]
  },
  {
   "cell_type": "markdown",
   "metadata": {},
   "source": [
    "## 1. Sample Histograms <a name=\"sample-histograms\" />\n",
    "This is an example of what we can achieve with histogramming within ROOT. There is much more you can learn about histograms within ROOT that we will not cover. This sample code will be broken down and explained throughout this lab."
   ]
  },
  {
   "cell_type": "code",
   "execution_count": 54,
   "metadata": {
    "scrolled": true
   },
   "outputs": [
    {
     "name": "stderr",
     "output_type": "stream",
     "text": [
      "Warning in <TROOT::Append>: Replacing existing TH1: 1d (Potential memory leak).\n",
      "Warning in <TROOT::Append>: Replacing existing TH1: name (Potential memory leak).\n",
      "Warning in <TROOT::Append>: Replacing existing TH1: h3 (Potential memory leak).\n",
      "Info in <TCanvas::Print>: png file two_histogram_surf00.png has been created\n",
      "Info in <TCanvas::Print>: png file two_histogram_cont000.png has been created\n",
      "Info in <TCanvas::Print>: png file one_d_histogram.png has been created\n"
     ]
    }
   ],
   "source": [
    "import ROOT\n",
    "\n",
    "del canvas\n",
    "# 1D Histogram\n",
    "one_d_hist = ROOT.TH1F(\"1d\", \"Histogram from a Gaussian\", 100, -3, 3)\n",
    "one_d_hist.FillRandom(\"gaus\", 10000)\n",
    "\n",
    "# 2D Histogram\n",
    "number_of_bins_x = number_of_bins_y = 100\n",
    "two_d_histogram = ROOT.TH2S(\"name\", \"title of histogram\", number_of_bins_x, -50, 50, number_of_bins_y, -100, 100)\n",
    "for x in range(-10, 10):\n",
    "    for y in range(-10, 10):\n",
    "        two_d_histogram.Fill(x, y, -x**2 - y**2 + 500)\n",
    "        \n",
    "# 3D Histogram\n",
    "three_d_histogram = ROOT.TH3F(\"h3\", \"h3 title\", 80, 0.0, 1.0, 100, -2.0, 2.0,\n",
    "                       50, 0.0, 3.0)\n",
    "\n",
    "canvas = ROOT.TCanvas(\"canvas_name\", \"canvas_name\", 700, 700)\n",
    "\n",
    "two_d_histogram.Draw(\"SURF2\")\n",
    "canvas.SaveAs(\"two_histogram_surf00.png\")\n",
    "two_d_histogram.Draw(\"CONT0\")\n",
    "canvas.SaveAs(\"two_histogram_cont000.png\")\n",
    "one_d_hist.Draw()\n",
    "canvas.SaveAs(\"one_d_histogram.png\")"
   ]
  },
  {
   "cell_type": "markdown",
   "metadata": {},
   "source": [
    "![alt-text](two_histogram_surf00.png)\n",
    "![alt-text](two_histogram_cont000.png)\n",
    "![alt-text](one_d_histogram.png)"
   ]
  },
  {
   "cell_type": "markdown",
   "metadata": {},
   "source": [
    "## 2. Creating a Histogram <a name=\"creating-histogram\" />\n",
    "There are multiple classes that may be used to create a histogram object in ROOT. The nomenclature for these objects is as follows: THNX, where N is the number of dimensions, and X is the data type being used to store the bin content (C for byte, S for short, I for integer, F for float, D for double). For example:\n",
    "```python\n",
    "histogram = ROOT.TH2S(\"name\", \"title of histogram\", 100 -50, 50, 100 -100, 100)\n",
    "```\n",
    "This creates a 2D histogram that has the name \"name\", a title of \"title of histogram\", 100 bins in the x and y directions, ranges from -50 to 50 in the x direction and from -100 to 100 in the y direction, and uses a short to store each bin content (up to 65,535 for each bin). This means in the x direction the bins have a width of 1 and in the y direction a width of 2.\n",
    "\n",
    "### 2.1 Exercise: <a name=\"create-hist-exercise\" />  \n",
    "Create a 3D histogram that stores bin contents with a integer that covers the intervals x:[-1,1]; y:[-50,50]; and z:[30,80] with a bin width in the x direction of 0.001, y direction of 2, and z direction of 0.25."
   ]
  },
  {
   "cell_type": "code",
   "execution_count": 37,
   "metadata": {
    "scrolled": true
   },
   "outputs": [
    {
     "ename": "AttributeError",
     "evalue": "THNX",
     "output_type": "error",
     "traceback": [
      "\u001b[0;31m\u001b[0m",
      "\u001b[0;31mAttributeError\u001b[0mTraceback (most recent call last)",
      "\u001b[0;32m<ipython-input-37-31f4420a0feb>\u001b[0m in \u001b[0;36m<module>\u001b[0;34m()\u001b[0m\n\u001b[0;32m----> 1\u001b[0;31m \u001b[0mhistogram\u001b[0m \u001b[0;34m=\u001b[0m \u001b[0mROOT\u001b[0m\u001b[0;34m.\u001b[0m\u001b[0mTHNX\u001b[0m\u001b[0;34m(\u001b[0m\u001b[0;34m\"\"\u001b[0m\u001b[0;34m,\u001b[0m\u001b[0;34m\"\"\u001b[0m\u001b[0;34m,\u001b[0m\u001b[0;34m)\u001b[0m\u001b[0;34m\u001b[0m\u001b[0m\n\u001b[0m",
      "\u001b[0;32m/home/aj/root/lib/ROOT.pyc\u001b[0m in \u001b[0;36m__getattr2\u001b[0;34m(self, name)\u001b[0m\n\u001b[1;32m    611\u001b[0m \u001b[0;34m\u001b[0m\u001b[0m\n\u001b[1;32m    612\u001b[0m     \u001b[0;31m# reaching this point means failure ...\u001b[0m\u001b[0;34m\u001b[0m\u001b[0;34m\u001b[0m\u001b[0m\n\u001b[0;32m--> 613\u001b[0;31m       \u001b[0;32mraise\u001b[0m \u001b[0mAttributeError\u001b[0m\u001b[0;34m(\u001b[0m \u001b[0mname\u001b[0m \u001b[0;34m)\u001b[0m\u001b[0;34m\u001b[0m\u001b[0m\n\u001b[0m\u001b[1;32m    614\u001b[0m \u001b[0;34m\u001b[0m\u001b[0m\n\u001b[1;32m    615\u001b[0m    \u001b[0;32mdef\u001b[0m \u001b[0m__delattr__\u001b[0m\u001b[0;34m(\u001b[0m \u001b[0mself\u001b[0m\u001b[0;34m,\u001b[0m \u001b[0mname\u001b[0m \u001b[0;34m)\u001b[0m\u001b[0;34m:\u001b[0m\u001b[0;34m\u001b[0m\u001b[0m\n",
      "\u001b[0;31mAttributeError\u001b[0m: THNX"
     ]
    }
   ],
   "source": [
    "histogram = ROOT.THNX(\"\",\"\",)"
   ]
  },
  {
   "cell_type": "code",
   "execution_count": 50,
   "metadata": {},
   "outputs": [
    {
     "name": "stderr",
     "output_type": "stream",
     "text": [
      "Warning in <TROOT::Append>: Replacing existing TH1: answer (Potential memory leak).\n"
     ]
    }
   ],
   "source": [
    "# ANS\n",
    "histogram = ROOT.TH3I(\"answer\",\"Answer to Exercise\", 2000, -1, 1, 50, -50, 50, 200, 30, 80)"
   ]
  },
  {
   "cell_type": "markdown",
   "metadata": {},
   "source": [
    "The base class for all ROOT histograms is the [**TH1** class](https://root.cern.ch/doc/master/classTH1.html), which means two-dimensional and three-dimensional histograms are treated as extensions to a one-dimensional histogram. There are multiple constructors for one-dimensional, two-dimensional, and three-dimensional histograms. These vary from taking projections of higher dimensional histograms to obtain a lower dimensional histogram, defining variable bin widths, and cloning histograms, to name a few. We will not explictly be required to use any of these but feel free to read [here](https://root.cern.ch/root/htmldoc/guides/users-guide/Histograms.html#creating-histograms) for more information."
   ]
  },
  {
   "cell_type": "markdown",
   "metadata": {},
   "source": [
    "## 3. Filling Histograms <a name=\"filling-histograms\" />\n",
    "### 3.1 Fill Method <a name=\"fill-method\" />\n",
    "A histogram can be filled in different ways. The most common way of filling a histogram is using the `Fill()` method.\n",
    "```python\n",
    "# one-dimensional\n",
    "h1.Fill(x);\n",
    "h1.Fill(x,w); # with weight\n",
    "# two-dimensional\n",
    "h2.Fill(x,y);\n",
    "h2.Fill(x,y,w);\n",
    "# three-dimensional\n",
    "h3.Fill(x,y,z);\n",
    "h3.Fill(x,y,z,w);\n",
    "```\n",
    "This fills the histogram by calculating what bin needs to be incremented by w or 1, if w is not given, for the given x, y, and z values. Every type of histogram can have positive and negative bin contents. Using the example from above:\n",
    "```python\n",
    "for x in range(-10, 10):\n",
    "    for y in range(-10, 10):\n",
    "        two_d_histogram.Fill(x, y, -x**2 - y**2 + 500)\n",
    "```\n",
    "Here, this two-dimensional histogram is being filled from -10 to 10 in the x and y regions and is being filled according to the function $f(x,y) = -(x^2 + y^2) + 500$. \n",
    "\n",
    "### 3.2 Random Method <a name=\"random-method\" />\n",
    "The `FillRandom()` function can be used to randomly fill a histogram based on an existing `TF1` (the object used to represent a function) function or `TH1` histogram. From the example above:\n",
    "```python\n",
    "one_d_hist = ROOT.TH1F(\"1d\", \"Histogram from a Gaussian\", 100, -3, 3)\n",
    "one_d_hist.FillRandom(\"gaus\", 10000)\n",
    "```\n",
    "Here \"gaus\" is a predefined `TF1` object within ROOT that is a Guassian distribution with a mean of 0 ($\\mu = 0$) and a standard deviation of 1 ($\\sigma = 1$): $$f(x) = \\frac{1}{\\sqrt{2\\pi\\sigma^2}} e^{\\frac{-\\left(x-\\mu\\right)^2}{2\\sigma^2}}$$\n",
    "We randomly sampled this function 10,000 times and used these numbers to fill the histogram. \n",
    "\n",
    "### 3.3 Exercise:  <a name=\"fill-hist-exercise\" />\n",
    "Use the given `TF1` function object to randomly sample a two-dimensional histogram 10,000 times over the regions -50 to 50 with a bin count of 100 for both x and y. Next, use the histogram from the projected x-axis of the two-dimensional histogram to randomly sample a one-dimensional histogram over the region 0 to 50, 10,000 times with a bin count of 50. Lastly, use the supplied list to fill a one-dimensional histogram. "
   ]
  },
  {
   "cell_type": "code",
   "execution_count": 53,
   "metadata": {},
   "outputs": [
    {
     "ename": "SyntaxError",
     "evalue": "invalid syntax (<ipython-input-53-a5839254a2e1>, line 4)",
     "output_type": "error",
     "traceback": [
      "\u001b[0;36m  File \u001b[0;32m\"<ipython-input-53-a5839254a2e1>\"\u001b[0;36m, line \u001b[0;32m4\u001b[0m\n\u001b[0;31m    hist_from_func = ROOT.\u001b[0m\n\u001b[0m                          ^\u001b[0m\n\u001b[0;31mSyntaxError\u001b[0m\u001b[0;31m:\u001b[0m invalid syntax\n"
     ]
    }
   ],
   "source": [
    "function = ROOT.TF1(\"func\", \"TBD\", -50, 50)\n",
    "a_list = [0, 0, 1, 4, 5, 6, 2, 1, 2, 1, 0 , 8, 9, 5, 7, 4,6, 5, 7, 8, 2, 3, 1, 6, 7, 8, 2, 9, 2, 8, 1, 1, 0, 0, 2, 0, 0]\n",
    "# Create and fill the 2-D histogram from the above TF1 object\n",
    "hist_from_func = ROOT.\n",
    "# The projected histogram from hist_from_func\n",
    "h1 = hist_from_func.ProjectionX()\n",
    "# Create and fill the 1-D histogram from h1 \n",
    "hist_from_hist = ROOT.\n",
    "\n",
    "# Create and fill the 1-D histogram from a_list\n",
    "hist_from_list = ROOT.\n"
   ]
  },
  {
   "cell_type": "code",
   "execution_count": 52,
   "metadata": {},
   "outputs": [],
   "source": [
    "# Answer TODO"
   ]
  }
 ],
 "metadata": {
  "kernelspec": {
   "display_name": "Python 2",
   "language": "python",
   "name": "python2"
  },
  "language_info": {
   "codemirror_mode": {
    "name": "ipython",
    "version": 2
   },
   "file_extension": ".py",
   "mimetype": "text/x-python",
   "name": "python",
   "nbconvert_exporter": "python",
   "pygments_lexer": "ipython2",
   "version": "2.7.15"
  }
 },
 "nbformat": 4,
 "nbformat_minor": 2
}
