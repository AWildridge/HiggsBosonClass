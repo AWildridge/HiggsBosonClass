{
 "cells": [
  {
   "cell_type": "code",
   "execution_count": 1,
   "metadata": {},
   "outputs": [
    {
     "name": "stdout",
     "output_type": "stream",
     "text": [
      "Welcome to JupyROOT 6.14/04\n"
     ]
    }
   ],
   "source": [
    "import ROOT"
   ]
  },
  {
   "cell_type": "markdown",
   "metadata": {},
   "source": [
    "Put some fancy markdown here maybe some the decay channel of Higgs we are looking at with a Feynman diagram..."
   ]
  },
  {
   "cell_type": "code",
   "execution_count": null,
   "metadata": {},
   "outputs": [],
   "source": [
    "# TODO: Load the data here.\n"
   ]
  },
  {
   "cell_type": "code",
   "execution_count": 29,
   "metadata": {},
   "outputs": [],
   "source": [
    "# A function to determine the decaying exponential fit to the background and the gaussian\n",
    "# fit to the signal. A gaussian integration of the background and background+signal in the\n",
    "# signal region is performed to determine the amount of signal and the signal-to-noise ratio (SNR).\n",
    "#\n",
    "# @par canvas_name The name of the canvas to display the analysis of the historgram @hist.\n",
    "# @par hist The histogram that is being analyzed.\n",
    "def analyze_histogram(canvas_name, hist):\n",
    "    # Construct the falling exponential fit to be used for the background\n",
    "    falling_exponential_fit = ROOT.TF1(\"fallingExponentialFit\", \"[0]*exp(-1*[1]*x)\", 0, 75)\n",
    "    falling_exponential_fit.SetParameters(100, 0.01)\n",
    "    falling_exponential_fit.SetParLimits(0, 0.01, 10000)\n",
    "    falling_exponential_fit.SetParLimits(1, 0.00001, 100)\n",
    "    \n",
    "    # Construct the gaussian fit to be used to fit the signal region\n",
    "    gaussian_fit = ROOT.TF1(\"gaussianFit\", \"[0]*exp(-0.5*((x-[1])/[2])^2)\", 75, 110)\n",
    "    gaussian_fit.SetParameters(100, 100, 20)\n",
    "    gaussian_fit.SetParLimits(0, 0, 1000)\n",
    "    gaussian_fit.SetParLimits(1, 50, 150)\n",
    "    gaussian_fit.SetParLimits(2, 0.1, 100)\n",
    "    gaussian_fit.SetLineColor(ROOT.kGreen)\n",
    "    \n",
    "    # Create the canvas\n",
    "    canvas = ROOT.TCanvas(canvas_name, canvas_name, 700, 700)\n",
    "    hist.Fit(falling_exponential_fit, \"LR+\")\n",
    "    hist.Fit(gaussian_fit, \"LR+\")\n",
    "    \n",
    "    # Perform the integration and calculate SNR\n",
    "    wrapped_fall_exp = ROOT.Math.WrappedTF1(falling_exponential_fit)\n",
    "    wrapped_gauss = ROOT.Math.WrappedTF1(gaussian_fit)\n",
    "    integrator = ROOT.Math.GaussIntegrator()\n",
    "    integrator.SetFunction(wrapped_fall_exp)\n",
    "    integrator.SetRelTolerance(0.001)\n",
    "    noise_integration = integrator.Integral(75, 125)\n",
    "    integrator.SetFunction(wrapped_gauss)\n",
    "    signal_integration = integrator.Integral(75, 125)\n",
    "    _signal = signal_integration - noise_integration\n",
    "    snr = _signal/noise_integration\n",
    "    \n",
    "    # Print the output and draw onto canvas.\n",
    "    print(\"The measured noise within the signal region was: \" + str(noise_integration) + \"\\n\")\n",
    "    print(\"The measured signal within the signal region was: \" + str(_signal) + \"\\n\")\n",
    "    print(\"The signal to noise ratio (SNR) is: \" + str(snr) + \"\\n\")\n",
    "    print(\"=====\\n\")\n",
    "    print('The mass of the Z boson is ' + str(gaussian_fit.GetParameter(1)) + ' +- ' + str(gaussian_fit.GetParError(1)) + ' GeV/c^2\\n')\n",
    "    hist.Draw()\n",
    "    png_filename = canvas_name + \".png\"\n",
    "    canvas.SaveAs(png_filename)"
   ]
  },
  {
   "cell_type": "code",
   "execution_count": 30,
   "metadata": {
    "scrolled": true
   },
   "outputs": [
    {
     "name": "stdout",
     "output_type": "stream",
     "text": [
      "=================================================\n",
      "\n",
      "Analyzing all of the dilepton decays...\n",
      "\n",
      "The measured noise within the signal region was: 4.41855634364e-163\n",
      "\n",
      "The measured signal within the signal region was: 7.62750711514\n",
      "\n",
      "The signal to noise ratio (SNR) is: 1.72624416709e+163\n",
      "\n",
      "=====\n",
      "\n",
      "The mass of the Z boson is 124.211762772 +- 52.2687562413 GeV/c^2\n",
      "\n",
      "=================================================\n",
      "\n",
      "Analyzing just the dielectron decays\n",
      "\n",
      "The measured noise within the signal region was: 4.41855634364e-163\n",
      "\n",
      "The measured signal within the signal region was: 7.62750711514\n",
      "\n",
      "The signal to noise ratio (SNR) is: 1.72624416709e+163\n",
      "\n",
      "=====\n",
      "\n",
      "The mass of the Z boson is 124.211762772 +- 52.2687562413 GeV/c^2\n",
      "\n",
      "=================================================\n",
      "\n",
      "Analyzing just the dimuon decays\n",
      "\n",
      "The measured noise within the signal region was: 4.41855634364e-163\n",
      "\n",
      "The measured signal within the signal region was: 7.62750711514\n",
      "\n",
      "The signal to noise ratio (SNR) is: 1.72624416709e+163\n",
      "\n",
      "=====\n",
      "\n",
      "The mass of the Z boson is 124.211762772 +- 52.2687562413 GeV/c^2\n",
      "\n",
      "=================================================\n",
      "\n",
      " FCN=1.71074e-05 FROM MIGRAD    STATUS=CONVERGED      70 CALLS          71 TOTAL\n",
      "                     EDM=2.45637e-08    STRATEGY= 1  ERROR MATRIX UNCERTAINTY  21.9 per cent\n",
      "  EXT PARAMETER                                   STEP         FIRST   \n",
      "  NO.   NAME      VALUE            ERROR          SIZE      DERIVATIVE \n",
      "   1  p0           1.00010e-02   4.69037e-01   2.04554e-05** at limit **\n",
      "   2  p1           4.90072e+00   5.62664e+01   3.28277e-01  -4.80366e-04\n",
      "                               ERR DEF= 0.5\n",
      " FCN=1.85279e-24 FROM HESSE     STATUS=NOT POSDEF     16 CALLS          94 TOTAL\n",
      "                     EDM=3.09535e-23    STRATEGY= 1      ERR MATRIX NOT POS-DEF\n",
      "  EXT PARAMETER                APPROXIMATE        STEP         FIRST   \n",
      "  NO.   NAME      VALUE            ERROR          SIZE      DERIVATIVE \n",
      "   1  p0           2.83282e+00   9.97568e+02   6.91757e-05  -3.47617e-23\n",
      "   2  p1           1.24212e+02   5.22688e+01   1.96287e-05  -5.53419e-22\n",
      "   3  p2           1.54565e+00   9.71636e+01   3.63729e-05   1.59275e-21\n",
      "                               ERR DEF= 0.5\n",
      " FCN=1.71074e-05 FROM MIGRAD    STATUS=CONVERGED      70 CALLS          71 TOTAL\n",
      "                     EDM=2.45637e-08    STRATEGY= 1  ERROR MATRIX UNCERTAINTY  21.9 per cent\n",
      "  EXT PARAMETER                                   STEP         FIRST   \n",
      "  NO.   NAME      VALUE            ERROR          SIZE      DERIVATIVE \n",
      "   1  p0           1.00010e-02   4.69037e-01   2.04554e-05** at limit **\n",
      "   2  p1           4.90072e+00   5.62664e+01   3.28277e-01  -4.80366e-04\n",
      "                               ERR DEF= 0.5\n",
      " FCN=1.85279e-24 FROM HESSE     STATUS=NOT POSDEF     16 CALLS          94 TOTAL\n",
      "                     EDM=3.09535e-23    STRATEGY= 1      ERR MATRIX NOT POS-DEF\n",
      "  EXT PARAMETER                APPROXIMATE        STEP         FIRST   \n",
      "  NO.   NAME      VALUE            ERROR          SIZE      DERIVATIVE \n",
      "   1  p0           2.83282e+00   9.97568e+02   6.91757e-05  -3.47617e-23\n",
      "   2  p1           1.24212e+02   5.22688e+01   1.96287e-05  -5.53419e-22\n",
      "   3  p2           1.54565e+00   9.71636e+01   3.63729e-05   1.59275e-21\n",
      "                               ERR DEF= 0.5\n",
      " FCN=1.71074e-05 FROM MIGRAD    STATUS=CONVERGED      70 CALLS          71 TOTAL\n",
      "                     EDM=2.45637e-08    STRATEGY= 1  ERROR MATRIX UNCERTAINTY  21.9 per cent\n",
      "  EXT PARAMETER                                   STEP         FIRST   \n",
      "  NO.   NAME      VALUE            ERROR          SIZE      DERIVATIVE \n",
      "   1  p0           1.00010e-02   4.69037e-01   2.04554e-05** at limit **\n",
      "   2  p1           4.90072e+00   5.62664e+01   3.28277e-01  -4.80366e-04\n",
      "                               ERR DEF= 0.5\n",
      " FCN=1.85279e-24 FROM HESSE     STATUS=NOT POSDEF     16 CALLS          94 TOTAL\n",
      "                     EDM=3.09535e-23    STRATEGY= 1      ERR MATRIX NOT POS-DEF\n",
      "  EXT PARAMETER                APPROXIMATE        STEP         FIRST   \n",
      "  NO.   NAME      VALUE            ERROR          SIZE      DERIVATIVE \n",
      "   1  p0           2.83282e+00   9.97568e+02   6.91757e-05  -3.47617e-23\n",
      "   2  p1           1.24212e+02   5.22688e+01   1.96287e-05  -5.53419e-22\n",
      "   3  p2           1.54565e+00   9.71636e+01   3.63729e-05   1.59275e-21\n",
      "                               ERR DEF= 0.5\n"
     ]
    },
    {
     "name": "stderr",
     "output_type": "stream",
     "text": [
      "Warning in <TROOT::Append>: Replacing existing TH1: zBosonHist (Potential memory leak).\n",
      "Warning in <TROOT::Append>: Replacing existing TH1: zBosonElectronHist (Potential memory leak).\n",
      "Warning in <TROOT::Append>: Replacing existing TH1: zBosonMuonHist (Potential memory leak).\n",
      "Info in <TCanvas::Print>: png file overallHistCanvas.png has been created\n",
      "Info in <TCanvas::Print>: png file dielectronHistCanvas.png has been created\n",
      "Info in <TCanvas::Print>: png file dimuonHistCanvas.png has been created\n"
     ]
    }
   ],
   "source": [
    "# Generating output\n",
    "numBins = 100\n",
    "lowerXRange = 0\n",
    "upperXRange = 260\n",
    "\n",
    "# Create the histograms\n",
    "zBosonHist = ROOT.TH1C(\"zBosonHist\", \"Histogram of Invariant Masses of Dilepton Decay\", numBins,\n",
    "                       lowerXRange, upperXRange)\n",
    "zBosonElectronHist = ROOT.TH1C(\"zBosonElectronHist\", \"Histogram of Invariant Masses of Dielectron Decays\", \n",
    "                               numBins, lowerXRange, upperXRange)\n",
    "zBosonMuonHist = ROOT.TH1C(\"zBosonMuonHist\", \"Histogram of Invariant Masses of Dimuon Decays\", \n",
    "                           numBins, lowerXRange, upperXRange)\n",
    "\n",
    "# Fill the data\n",
    "#  for(it = mass_map.begin(); it != mass_map.end(); it++) {\n",
    "#    vector<double> masses = it->second;\n",
    "#    for(unsigned int i = 0; i < masses.size(); ++i) {\n",
    "#      zBosonHist->Fill(masses[i])\n",
    "#      if(it->first.compare(\"e\"))\n",
    "#          zBosonElectronHist->Fill(masses[i]);\n",
    "#      else if(it->first.compare(\"m\"))\n",
    "#        zBosonMuonHist->Fill(masses[i]);\n",
    "\n",
    "# Analyze the histograms\n",
    "\n",
    "print(\"=================================================\\n\")\n",
    "print(\"Analyzing all of the dilepton decays...\\n\")\n",
    "analyze_histogram(\"overallHistCanvas\", zBosonHist)\n",
    "print(\"=================================================\\n\")\n",
    "print(\"Analyzing just the dielectron decays\\n\")\n",
    "analyze_histogram(\"dielectronHistCanvas\", zBosonElectronHist)\n",
    "print(\"=================================================\\n\")\n",
    "print(\"Analyzing just the dimuon decays\\n\")\n",
    "analyze_histogram(\"dimuonHistCanvas\", zBosonMuonHist)\n",
    "print(\"=================================================\\n\")"
   ]
  },
  {
   "cell_type": "code",
   "execution_count": 8,
   "metadata": {},
   "outputs": [
    {
     "data": {
      "text/plain": [
       "'  \\nTF1 * fallingExponentialFit = new TF1(\"fallingExponentialFit\", \"[0]*exp(-1*[1]*x)\", 0, 75);\\nfallingExponentialFit->SetParameters(100, 0.01);\\nfallingExponentialFit->SetParLimits(0, 0.01, 10000);\\nfallingExponentialFit->SetParLimits(1, 0.00001, 100);\\n\\nTF1 * gaussianFit = new TF1(\"gaussianFit\", \"[0]*exp(-0.5*((x-[1])/[2])^2)\", 75, 110);\\ngaussianFit->SetParameters(100, 100, 20);\\ngaussianFit->SetParLimits(0, 0, 1000);\\ngaussianFit->SetParLimits(1, 50, 150);\\ngaussianFit->SetParLimits(2, 0.1, 100);\\ngaussianFit->SetLineColor(kGreen);\\n\\nTCanvas * canvas = new TCanvas(canvasName.c_str(), canvasName.c_str(), 700, 700);\\nhistogram->Fit(fallingExponentialFit, \"LR+\");\\nhistogram->Fit(gaussianFit, \"LR+\");\\n\\nROOT::Math::WrappedTF1 wrappedFallExp(*fallingExponentialFit);\\nROOT::Math::WrappedTF1 wrappedGauss(*gaussianFit);\\nROOT::Math::GaussIntegrator integrator;\\nintegrator.SetFunction(wrappedFallExp);\\nintegrator.SetRelTolerance(0.001);\\ndouble noiseIntegration = integrator.Integral(75, 125);\\nintegrator.SetFunction(wrappedGauss);\\ndouble signalIntegration = integrator.Integral(75, 125);\\ndouble _signal = signalIntegration - noiseIntegration;\\ndouble snr = _signal/noiseIntegration;\\n\\nprintf(\"The measured noise within the signal region was: %f\\n\", noiseIntegration);\\nprintf(\"The measured signal within the signal region was: %f\\n\", _signal);\\nprintf(\"The signal to noise ratio (SNR) is: %f\\n\", snr);\\nprintf(\"=====\\n\");\\nprintf(\"The mass of the Z boson is %f +- %f GeV/c^2\\n\", gaussianFit->GetParameter(1), gaussianFit->GetParError(1));\\nhistogram->Draw();\\nstring pngFilename = canvasName.append(\".png\");\\ncanvas->SaveAs(pngFilename.c_str());'"
      ]
     },
     "execution_count": 8,
     "metadata": {},
     "output_type": "execute_result"
    }
   ],
   "source": []
  },
  {
   "cell_type": "code",
   "execution_count": null,
   "metadata": {},
   "outputs": [],
   "source": []
  }
 ],
 "metadata": {
  "kernelspec": {
   "display_name": "Python 2",
   "language": "python",
   "name": "python2"
  },
  "language_info": {
   "codemirror_mode": {
    "name": "ipython",
    "version": 2
   },
   "file_extension": ".py",
   "mimetype": "text/x-python",
   "name": "python",
   "nbconvert_exporter": "python",
   "pygments_lexer": "ipython2",
   "version": "2.7.15"
  }
 },
 "nbformat": 4,
 "nbformat_minor": 2
}
