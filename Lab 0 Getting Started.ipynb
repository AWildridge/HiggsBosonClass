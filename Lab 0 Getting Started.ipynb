{
 "cells": [
  {
   "cell_type": "markdown",
   "metadata": {},
   "source": [
    "# Lab 0: Getting Started\n",
    "\n",
    "## Table of Contents\n",
    "1. **[What is ROOT?](#what-is-ROOT)**\n",
    "2. **[Introduction to shells](#intro-to-shells)**\n",
    "3. **[Installation Guides for Linux](#linux-guides)**  \n",
    "   3.1. [Installing Python](#linux-python)  \n",
    "   3.2. [Istalling ROOT](#linux-ROOT)  \n",
    "4. **[Installation Guides for iOS](#ios-guides)**  \n",
    "   4.1. [Installing Python](#ios-python)  \n",
    "   4.2. [Istalling ROOT](#ios-ROOT)  \n",
    "5. **[Installation Guides for Windows](#windows-guides)**  \n",
    "   5.1. [Installing Python](#windows-python)  \n",
    "   5.2. [Istalling ROOT](#windows-ROOT)  \n",
    "6. **[Suggestion for text editor](#text-editors)**"
   ]
  },
  {
   "cell_type": "markdown",
   "metadata": {},
   "source": [
    "![alt text](https://d35c7d8c.web.cern.ch/sites/d35c7d8c.web.cern.ch/files/website-banner-allnew-croped_3.png \"\")\n",
    "## 1. What is ROOT? <a name=\"what-is-ROOT\" />\n",
    ">ROOT is a modular scientific software toolkit. It provides all the functionalities needed to deal with big data processing, statistical analysis, visualisation and storage. It is mainly written in C++ but integrated with other languages such as Python and R.\n",
    "\n",
    "ROOT was born at CERN in 1994 to meet the increasing demands of high-energy particle physicists to be able to perform precise data analyses on data of increasing size. \n",
    "\n",
    "ROOT has grown beyond this since 1994 and is considered a suite of data anylsis tools which high-energy physicists still use today. Some functionality of ROOT includes:\n",
    "* Histogramming and plotting to view and analyze distributions and functions\n",
    "* curve fitting\n",
    "* Matrix algebra\n",
    "* four-vector computations\n",
    "* multivariate data analysis, e.g., neural networks\n",
    "* distributed computing\n",
    "* interfacing Monte Carlo event generators\n",
    "* interfacing Python and Ruby code in both directions\n",
    "* and many more...\n",
    "\n",
    "ROOT is very versatile and allows for multiple ways of interacting with the ROOT framework. You can write scripts or interact directly with the ROOT framework through a terminal by simply typing `root`.\n",
    "\n",
    "You can also use ROOT through the Jupyter Notebook environment, which we will be using for the duration of this class. Feel free to experiment with the versatility ROOT offers.\n",
    "\n",
    "Before you can use ROOT we will need to install it on your computer."
   ]
  },
  {
   "cell_type": "markdown",
   "metadata": {},
   "source": [
    "## 2. Introduction to shells <a name=\"intro-to-shells\" />"
   ]
  },
  {
   "cell_type": "markdown",
   "metadata": {},
   "source": [
    "![alt-text](https://docs.toradex.com/103630-icon-linux-news-blog.png \"\")\n",
    "## 3. Installation Guides for Linux <a name=\"linux-guides\" /> "
   ]
  },
  {
   "cell_type": "markdown",
   "metadata": {},
   "source": [
    "### 3.1. Installing Python <a name=\"linux-python\" />\n",
    "##### This is only required if doing the Python version of this class. If not, please skip to [3.2. Installing ROOT](#linux-ROOT)\n",
    "\n",
    "In order for ROOT to work with Jupyter, you need to use Python 2. Python 2 comes pre-installed on some Linux distributions. You can check to see if your computer has Python 2 by opening a terminal (Ctrl+Alt+T) and using the command(s) `python2 --version` or `python --version`. If this says something along the lines of `python2: Command not found` or `Python 3.x.x` then Python 2 needs to be installed. We recommend [Python 2.7.15](https://www.python.org/downloads/release/python-2715/). \n",
    "\n",
    "#### Making a Python 2 Kernel\n",
    "Once you have Python 2, you will need to create a Python 2 Kernel for Jupyter Notebook. In the top right corner underneath a button \"Logout\" you should see \"Python 3\". This is the kernel that is currently being used within the Jupyter Notebook. If you already have a Python 2 kernel, you can simply click on the Menu item \"Kernel\" and scroll over \"Change kernel\". This will list your available kernels for your Jupyter Notebook environment.\n",
    "\n",
    "If Python 2 was not listed these are the commands that need to be ran in a terminal to create the Python 2 kernel for Jupyter.\n",
    "\n",
    "First we need to check the version of \"pip\", the package management system for Python. If the version is >= 9 then you do not need to update pip.\n",
    "```shell\n",
    "python2 -m pip --version\n",
    "```\n",
    "If your version is below this you will need to upgrade pip with \n",
    "```shell\n",
    "sudo -H pip2 install --upgrade pip\n",
    "```\n",
    "\n",
    "Then you will install the IPython kernel for Python 2 with the following commands:\n",
    "```shell\n",
    "python2 -m pip install ipykernel\n",
    "python2 -m ipykernel install --user\n",
    "```\n",
    "\n",
    "Now you should see the option of changing the kernel to Python 2 (may need you to refresh the notebook). Go ahead and do this now.\n",
    "\n",
    "### 3.2. Installing ROOT <a name=\"linux-ROOT\" />\n",
    "We will be using ROOT 6.14/04 namely for the compatability with Windows OS. Older versions of ROOT should suffice if you already have ROOT installed as we will not be doing anything too \"fancy\". Click [here](https://root.cern.ch/content/release-61404) for the download page for ROOT 6.14/04. Select the binary distribution that matches your Linux build. Find the tarball you just downloaded and execute this command `tar -zxvf filename.tar.gz`. This will uncompress the root binaries. Next we need to ensure you have all of the prerequisites to build the ROOT library.\n",
    "\n",
    "See [here](https://root.cern.ch/build-prerequisites) for a list of all of the prerequisites depending on your distribution of Linux. The command to execute to get all of the prerequisites are the following:\n",
    "\n",
    "**For Fedora 18, 19 and 20; Scientific Linux 5, 6; CentOS 6, 7:**\n",
    "```shell\n",
    "sudo yum install git cmake gcc-c++ gcc binutils \\\n",
    "libX11-devel libXpm-devel libXft-devel libXext-devel\n",
    "```\n",
    "**For Ubuntu 10, 12 , 14 and 16:**\n",
    "```shell\n",
    "sudo apt-get install git dpkg-dev cmake g++ gcc binutils libx11-dev libxpm-dev \\\n",
    "libxft-dev libxext-dev\n",
    "```\n",
    "**For openSUSE 10, 11:**\n",
    "```shell\n",
    "sudo zypper install git bash cmake gcc-c++ gcc binutils \\\n",
    "xorg-x11-libX11-devel xorg-x11-libXpm-devel xorg-x11-devel \\\n",
    "xorg-x11-proto-devel xorg-x11-libXext-devel\n",
    "```"
   ]
  },
  {
   "cell_type": "markdown",
   "metadata": {},
   "source": [
    "![alt-text](http://d3e5kk0afz85hq.cloudfront.net/172552-icon.jpg \"\")\n",
    "## 4. Installation Guides for iOS <a name=\"ios-guides\" />"
   ]
  },
  {
   "cell_type": "markdown",
   "metadata": {},
   "source": [
    "### 4.1. Installing Python <a name=\"ios-python\" />\n",
    "##### This is only required if doing the Python version of this class. If not, please skip to [4.2. Installing ROOT](#ios-ROOT)\n",
    "\n",
    "In order for ROOT to work with Jupyter, you need to use Python 2. Python 2 comes pre-installed on some Linux distributions. You can check to see if your computer has Python 2 by opening a terminal (Ctrl+Alt+T) and using the command(s) `python2 --version` or `python --version`. If this says something along the lines of `python2: Command not found` or `Python 3.x.x` then Python 2 needs to be installed. We recommend [Python 2.7.15](https://www.python.org/downloads/release/python-2715/). \n",
    "\n",
    "#### Making a Python 2 Kernel\n",
    "Once you have Python 2, you will need to create a Python 2 Kernel for Jupyter Notebook. In the top right corner underneath a button \"Logout\" you should see \"Python 3\". This is the kernel that is currently being used within the Jupyter Notebook. If you already have a Python 2 kernel, you can simply click on the Menu item \"Kernel\" and scroll over \"Change kernel\". This will list your available kernels for your Jupyter Notebook environment.\n",
    "\n",
    "If Python 2 was not listed these are the commands that need to be ran in a terminal to create the Python 2 kernel for Jupyter.\n",
    "\n",
    "First we need to check the version of \"pip\", the package management system for Python. If the version is >= 9 then you do not need to update pip.\n",
    "```\n",
    "python2 -m pip --version\n",
    "```\n",
    "If your version is below this you will need to upgrade pip with \n",
    "```\n",
    "sudo -H pip2 install --upgrade pip\n",
    "```\n",
    "\n",
    "Then you will install the IPython kernel for Python 2 with the following commands:\n",
    "```\n",
    "python2 -m pip install ipykernel\n",
    "python2 -m ipykernel install --user\n",
    "```\n",
    "\n",
    "### 4.2. Installing ROOT <a name=\"ios-ROOT\" />"
   ]
  },
  {
   "cell_type": "markdown",
   "metadata": {},
   "source": [
    "![alt-text](https://images.sftcdn.net/images/t_app-logo-l,f_auto,dpr_auto/p/ed4565ae-99eb-11e6-aeee-00163ed833e7/390199485/windows-10-technical-preview-for-phones-logo.png \"\")\n",
    "## 5. Installation Guides for Windows <a name=\"windows-guides\" />"
   ]
  },
  {
   "cell_type": "markdown",
   "metadata": {},
   "source": [
    "### 5.1. Installing Python <a name=\"windows-python\" />\n",
    "##### This is only required if doing the Python version of this class. If not, please skip to [5.2. Installing ROOT](#windows-ROOT)\n",
    "\n",
    "In order for ROOT to work with Jupyter, you need to use Python 2. Python 2 comes pre-installed on some Linux distributions. You can check to see if your computer has Python 2 by opening a terminal (Ctrl+Alt+T) and using the command(s) `python2 --version` or `python --version`. If this says something along the lines of `python2: Command not found` or `Python 3.x.x` then Python 2 needs to be installed. We recommend [Python 2.7.15](https://www.python.org/downloads/release/python-2715/). \n",
    "\n",
    "#### Making a Python 2 Kernel\n",
    "Once you have Python 2, you will need to create a Python 2 Kernel for Jupyter Notebook. In the top right corner underneath a button \"Logout\" you should see \"Python 3\". This is the kernel that is currently being used within the Jupyter Notebook. If you already have a Python 2 kernel, you can simply click on the Menu item \"Kernel\" and scroll over \"Change kernel\". This will list your available kernels for your Jupyter Notebook environment.\n",
    "\n",
    "If Python 2 was not listed these are the commands that need to be ran in a terminal to create the Python 2 kernel for Jupyter.\n",
    "\n",
    "First we need to check the version of \"pip\", the package management system for Python. If the version is >= 9 then you do not need to update pip.\n",
    "```\n",
    "python2 -m pip --version\n",
    "```\n",
    "If your version is below this you will need to upgrade pip with \n",
    "```\n",
    "sudo -H pip2 install --upgrade pip\n",
    "```\n",
    "\n",
    "Then you will install the IPython kernel for Python 2 with the following commands:\n",
    "```\n",
    "python2 -m pip install ipykernel\n",
    "python2 -m ipykernel install --user\n",
    "```\n",
    "\n",
    "### 5.2. Installing ROOT <a name=\"windows-ROOT\" />"
   ]
  },
  {
   "cell_type": "markdown",
   "metadata": {},
   "source": [
    "## 6. Suggestions for Text Editors <a name=\"text-editors\" />"
   ]
  },
  {
   "cell_type": "code",
   "execution_count": null,
   "metadata": {},
   "outputs": [],
   "source": []
  }
 ],
 "metadata": {
  "kernelspec": {
   "display_name": "Python 2",
   "language": "python",
   "name": "python2"
  },
  "language_info": {
   "codemirror_mode": {
    "name": "ipython",
    "version": 2
   },
   "file_extension": ".py",
   "mimetype": "text/x-python",
   "name": "python",
   "nbconvert_exporter": "python",
   "pygments_lexer": "ipython2",
   "version": "2.7.15"
  }
 },
 "nbformat": 4,
 "nbformat_minor": 2
}
