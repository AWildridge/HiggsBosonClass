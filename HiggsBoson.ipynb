{
 "cells": [
  {
   "cell_type": "code",
   "execution_count": 1,
   "metadata": {},
   "outputs": [
    {
     "name": "stdout",
     "output_type": "stream",
     "text": [
      "Welcome to JupyROOT 6.14/04\n"
     ]
    }
   ],
   "source": [
    "import ROOT"
   ]
  },
  {
   "cell_type": "code",
   "execution_count": 5,
   "metadata": {},
   "outputs": [],
   "source": [
    "import csv"
   ]
  },
  {
   "cell_type": "markdown",
   "metadata": {},
   "source": [
    "Maybe don't need to load CSV. We can maybe use the zboson as a test case and then move to Higgs boson...."
   ]
  },
  {
   "cell_type": "code",
   "execution_count": 6,
   "metadata": {},
   "outputs": [
    {
     "data": {
      "text/plain": [
       "'convert this code to python...\\nwhile(invariantMasses.getline(line, 256)):\\n    vector<double> masses\\n    string s(line)\\n    string delimiter = \",\"\\n    string lepton = s.substr(0, s.find(delimiter))\\n    string invariantMass = s.substr(s.find(delimiter) + 1)\\n    try:\\n        masses = mass_map.at(lepton)\\n        masses.push_back(stod(invariantMass))\\n        mass_map[lepton] = masses\\n    except (const out_of_range & oor):\\n        masses.push_back(stod(invariantMass))\\n        mass_map.insert(make_pair(lepton, masses))\\n'"
      ]
     },
     "execution_count": 6,
     "metadata": {},
     "output_type": "execute_result"
    }
   ],
   "source": [
    "mass_map = {}\n",
    "with open('zboson.csv', 'rb') as csvfile:\n",
    "    reader = csv.reader(csvfile, delimiter = ',')\n",
    "    for row in reader:\n",
    "        masses = []\n",
    "        \n",
    "'''convert this code to python...\n",
    "while(invariantMasses.getline(line, 256)):\n",
    "    vector<double> masses\n",
    "    string s(line)\n",
    "    string delimiter = \",\"\n",
    "    string lepton = s.substr(0, s.find(delimiter))\n",
    "    string invariantMass = s.substr(s.find(delimiter) + 1)\n",
    "    try:\n",
    "        masses = mass_map.at(lepton)\n",
    "        masses.push_back(stod(invariantMass))\n",
    "        mass_map[lepton] = masses\n",
    "    except (const out_of_range & oor):\n",
    "        masses.push_back(stod(invariantMass))\n",
    "        mass_map.insert(make_pair(lepton, masses))\n",
    "'''\n"
   ]
  },
  {
   "cell_type": "code",
   "execution_count": 7,
   "metadata": {},
   "outputs": [
    {
     "data": {
      "text/plain": [
       "'// Parameters for the histogram.\\n  int numBins = 100;\\n  float lowerXRange = 0.0f;\\n  float upperXRange = 260.0f;\\n\\n  // Create my histograms.\\n  TH1C * zBosonHist = new TH1C(\"zbosonHist\", \"Histogram of Invariant Masses of Dilepton Decay\",\\n                                numBins, lowerXRange, upperXRange);\\n  TH1C * zBosonElectronHist = new TH1C(\"zBosonElectronHist\", \"Histogram of Invariant Masses of Dielectron Decays\",\\n                                numBins, lowerXRange, upperXRange);\\n  TH1C * zBosonMuonHist = new TH1C(\"zBosonMuonHist\", \"Histogram of Invariant Masses of Dimuon Decays\",\\n                                numBins, lowerXRange, upperXRange);\\n\\n  // Fill the histograms\\n  map<string, vector<double>>::iterator it;\\n  for(it = mass_map.begin(); it != mass_map.end(); it++) {\\n    vector<double> masses = it->second;\\n    for(unsigned int i = 0; i < masses.size(); ++i) {\\n      zBosonHist->Fill(masses[i]);\\n      if(it->first.compare(\"e\")) {\\n        zBosonElectronHist->Fill(masses[i]);\\n      } else if(it->first.compare(\"m\")) {\\n        zBosonMuonHist->Fill(masses[i]);\\n      }\\n    }\\n  }\\n\\n  // Analyze the histograms.\\n  printf(\"=================================================\\n\");\\n  printf(\"Analyzing all of the dilepton decays...\\n\");\\n  analyzeZBosonHistogram(\"overallHistCanvas\", zBosonHist);\\n  printf(\"=================================================\\n\");\\n  printf(\"Analyzing just the dielectron decays\\n\");\\n  analyzeZBosonHistogram(\"dielectronHistCanvas\", zBosonElectronHist);\\n  printf(\"=================================================\\n\");\\n  printf(\"Analyzing just the dimuon decays\\n\");\\n  analyzeZBosonHistogram(\"dimuonHistCanvas\", zBosonMuonHist);\\n  printf(\"=================================================\\n\");'"
      ]
     },
     "execution_count": 7,
     "metadata": {},
     "output_type": "execute_result"
    }
   ],
   "source": [
    "'''// Parameters for the histogram.\n",
    "  int numBins = 100;\n",
    "  float lowerXRange = 0.0f;\n",
    "  float upperXRange = 260.0f;\n",
    "\n",
    "  // Create my histograms.\n",
    "  TH1C * zBosonHist = new TH1C(\"zbosonHist\", \"Histogram of Invariant Masses of Dilepton Decay\",\n",
    "                                numBins, lowerXRange, upperXRange);\n",
    "  TH1C * zBosonElectronHist = new TH1C(\"zBosonElectronHist\", \"Histogram of Invariant Masses of Dielectron Decays\",\n",
    "                                numBins, lowerXRange, upperXRange);\n",
    "  TH1C * zBosonMuonHist = new TH1C(\"zBosonMuonHist\", \"Histogram of Invariant Masses of Dimuon Decays\",\n",
    "                                numBins, lowerXRange, upperXRange);\n",
    "\n",
    "  // Fill the histograms\n",
    "  map<string, vector<double>>::iterator it;\n",
    "  for(it = mass_map.begin(); it != mass_map.end(); it++) {\n",
    "    vector<double> masses = it->second;\n",
    "    for(unsigned int i = 0; i < masses.size(); ++i) {\n",
    "      zBosonHist->Fill(masses[i]);\n",
    "      if(it->first.compare(\"e\")) {\n",
    "        zBosonElectronHist->Fill(masses[i]);\n",
    "      } else if(it->first.compare(\"m\")) {\n",
    "        zBosonMuonHist->Fill(masses[i]);\n",
    "      }\n",
    "    }\n",
    "  }\n",
    "\n",
    "  // Analyze the histograms.\n",
    "  printf(\"=================================================\\n\");\n",
    "  printf(\"Analyzing all of the dilepton decays...\\n\");\n",
    "  analyzeZBosonHistogram(\"overallHistCanvas\", zBosonHist);\n",
    "  printf(\"=================================================\\n\");\n",
    "  printf(\"Analyzing just the dielectron decays\\n\");\n",
    "  analyzeZBosonHistogram(\"dielectronHistCanvas\", zBosonElectronHist);\n",
    "  printf(\"=================================================\\n\");\n",
    "  printf(\"Analyzing just the dimuon decays\\n\");\n",
    "  analyzeZBosonHistogram(\"dimuonHistCanvas\", zBosonMuonHist);\n",
    "  printf(\"=================================================\\n\");'''"
   ]
  },
  {
   "cell_type": "code",
   "execution_count": 8,
   "metadata": {},
   "outputs": [
    {
     "data": {
      "text/plain": [
       "'  \\nTF1 * fallingExponentialFit = new TF1(\"fallingExponentialFit\", \"[0]*exp(-1*[1]*x)\", 0, 75);\\nfallingExponentialFit->SetParameters(100, 0.01);\\nfallingExponentialFit->SetParLimits(0, 0.01, 10000);\\nfallingExponentialFit->SetParLimits(1, 0.00001, 100);\\n\\nTF1 * gaussianFit = new TF1(\"gaussianFit\", \"[0]*exp(-0.5*((x-[1])/[2])^2)\", 75, 110);\\ngaussianFit->SetParameters(100, 100, 20);\\ngaussianFit->SetParLimits(0, 0, 1000);\\ngaussianFit->SetParLimits(1, 50, 150);\\ngaussianFit->SetParLimits(2, 0.1, 100);\\ngaussianFit->SetLineColor(kGreen);\\n\\nTCanvas * canvas = new TCanvas(canvasName.c_str(), canvasName.c_str(), 700, 700);\\nhistogram->Fit(fallingExponentialFit, \"LR+\");\\nhistogram->Fit(gaussianFit, \"LR+\");\\n\\nROOT::Math::WrappedTF1 wrappedFallExp(*fallingExponentialFit);\\nROOT::Math::WrappedTF1 wrappedGauss(*gaussianFit);\\nROOT::Math::GaussIntegrator integrator;\\nintegrator.SetFunction(wrappedFallExp);\\nintegrator.SetRelTolerance(0.001);\\ndouble noiseIntegration = integrator.Integral(75, 125);\\nintegrator.SetFunction(wrappedGauss);\\ndouble signalIntegration = integrator.Integral(75, 125);\\ndouble _signal = signalIntegration - noiseIntegration;\\ndouble snr = _signal/noiseIntegration;\\n\\nprintf(\"The measured noise within the signal region was: %f\\n\", noiseIntegration);\\nprintf(\"The measured signal within the signal region was: %f\\n\", _signal);\\nprintf(\"The signal to noise ratio (SNR) is: %f\\n\", snr);\\nprintf(\"=====\\n\");\\nprintf(\"The mass of the Z boson is %f +- %f GeV/c^2\\n\", gaussianFit->GetParameter(1), gaussianFit->GetParError(1));\\nhistogram->Draw();\\nstring pngFilename = canvasName.append(\".png\");\\ncanvas->SaveAs(pngFilename.c_str());'"
      ]
     },
     "execution_count": 8,
     "metadata": {},
     "output_type": "execute_result"
    }
   ],
   "source": [
    "'''  \n",
    "TF1 * fallingExponentialFit = new TF1(\"fallingExponentialFit\", \"[0]*exp(-1*[1]*x)\", 0, 75);\n",
    "fallingExponentialFit->SetParameters(100, 0.01);\n",
    "fallingExponentialFit->SetParLimits(0, 0.01, 10000);\n",
    "fallingExponentialFit->SetParLimits(1, 0.00001, 100);\n",
    "\n",
    "TF1 * gaussianFit = new TF1(\"gaussianFit\", \"[0]*exp(-0.5*((x-[1])/[2])^2)\", 75, 110);\n",
    "gaussianFit->SetParameters(100, 100, 20);\n",
    "gaussianFit->SetParLimits(0, 0, 1000);\n",
    "gaussianFit->SetParLimits(1, 50, 150);\n",
    "gaussianFit->SetParLimits(2, 0.1, 100);\n",
    "gaussianFit->SetLineColor(kGreen);\n",
    "\n",
    "TCanvas * canvas = new TCanvas(canvasName.c_str(), canvasName.c_str(), 700, 700);\n",
    "histogram->Fit(fallingExponentialFit, \"LR+\");\n",
    "histogram->Fit(gaussianFit, \"LR+\");\n",
    "\n",
    "ROOT::Math::WrappedTF1 wrappedFallExp(*fallingExponentialFit);\n",
    "ROOT::Math::WrappedTF1 wrappedGauss(*gaussianFit);\n",
    "ROOT::Math::GaussIntegrator integrator;\n",
    "integrator.SetFunction(wrappedFallExp);\n",
    "integrator.SetRelTolerance(0.001);\n",
    "double noiseIntegration = integrator.Integral(75, 125);\n",
    "integrator.SetFunction(wrappedGauss);\n",
    "double signalIntegration = integrator.Integral(75, 125);\n",
    "double _signal = signalIntegration - noiseIntegration;\n",
    "double snr = _signal/noiseIntegration;\n",
    "\n",
    "printf(\"The measured noise within the signal region was: %f\\n\", noiseIntegration);\n",
    "printf(\"The measured signal within the signal region was: %f\\n\", _signal);\n",
    "printf(\"The signal to noise ratio (SNR) is: %f\\n\", snr);\n",
    "printf(\"=====\\n\");\n",
    "printf(\"The mass of the Z boson is %f +- %f GeV/c^2\\n\", gaussianFit->GetParameter(1), gaussianFit->GetParError(1));\n",
    "histogram->Draw();\n",
    "string pngFilename = canvasName.append(\".png\");\n",
    "canvas->SaveAs(pngFilename.c_str());'''"
   ]
  },
  {
   "cell_type": "code",
   "execution_count": null,
   "metadata": {},
   "outputs": [],
   "source": []
  }
 ],
 "metadata": {
  "kernelspec": {
   "display_name": "Python 2",
   "language": "python",
   "name": "python2"
  },
  "language_info": {
   "codemirror_mode": {
    "name": "ipython",
    "version": 2
   },
   "file_extension": ".py",
   "mimetype": "text/x-python",
   "name": "python",
   "nbconvert_exporter": "python",
   "pygments_lexer": "ipython2",
   "version": "2.7.15"
  }
 },
 "nbformat": 4,
 "nbformat_minor": 2
}
