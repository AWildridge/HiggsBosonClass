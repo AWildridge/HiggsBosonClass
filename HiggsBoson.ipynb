{
 "cells": [
  {
   "cell_type": "code",
   "execution_count": 29,
   "metadata": {},
   "outputs": [
    {
     "ename": "ImportError",
     "evalue": "No module named ROOT",
     "output_type": "error",
     "traceback": [
      "\u001b[0;31m---------------------------------------------------------------------------\u001b[0m",
      "\u001b[0;31mImportError\u001b[0m                               Traceback (most recent call last)",
      "\u001b[0;32m<ipython-input-1-ee8dc4376aa8>\u001b[0m in \u001b[0;36m<module>\u001b[0;34m()\u001b[0m\n\u001b[0;32m----> 1\u001b[0;31m \u001b[0;32mimport\u001b[0m \u001b[0mROOT\u001b[0m\u001b[0;34m\u001b[0m\u001b[0m\n\u001b[0m",
      "\u001b[0;31mImportError\u001b[0m: No module named ROOT"
     ]
    }
   ],
   "source": [
    "import os\n",
    "import ROOT\n",
    "#from ROOT import TF1, TCanvas, TMath, TH1C"
   ]
  },
  {
   "cell_type": "markdown",
   "metadata": {},
   "source": [
    "***\n",
    "# Introductions to Research:\n",
    "\n",
    "First of all, I recommend looking [here](https://lhcb.github.io/analysis-essentials/shell/) which includes a walk through of basics of python script(unfortunately no c++), **but** I think more importantly through shell navigation and use.  Competent shell navigation will allow you to more confidently create, access, organize, and share files..  all of which make this work much easier!\n",
    "***\n"
   ]
  },
  {
   "cell_type": "markdown",
   "metadata": {},
   "source": [
    "***\n",
    "Put some fancy markdown here maybe some the decay channel of Higgs we are looking at with a Feynman diagram...\n",
    "***"
   ]
  },
  {
   "cell_type": "markdown",
   "metadata": {},
   "source": [
    "No idea what this $\\uparrow$ is referring to (:  \n"
   ]
  },
  {
   "cell_type": "markdown",
   "metadata": {},
   "source": [
    "***\n",
    "# TODO: Load the data here.\n"
   ]
  },
  {
   "cell_type": "code",
   "execution_count": 16,
   "metadata": {},
   "outputs": [],
   "source": [
    "import urllib.request as rq"
   ]
  },
  {
   "cell_type": "code",
   "execution_count": 21,
   "metadata": {},
   "outputs": [],
   "source": [
    "#I've asked, but I don't know what data you'd like in here.. anyways here you go:  (take out the loop if you don't need it)\n",
    "#does everyone have access to the hep server?  or are we planning on sharing data via git? \n",
    "url_names = [\"http://opendata.web.cern.ch/record/5501/files/DoubleMu11.root\",\n",
    "\"http://opendata.web.cern.ch/record/5501/files/DoubleE11.root\",\n",
    "\"http://opendata.web.cern.ch/record/5501/files/DoubleMu12.root\",   \n",
    "\"http://opendata.web.cern.ch/record/5501/files/DoubleE12.root\",    \n",
    "\"http://opendata.web.cern.ch/record/5501/files/HZZ11.root\",        \n",
    "\"http://opendata.web.cern.ch/record/5501/files/HZZ12.root\",        \n",
    "\"http://opendata.web.cern.ch/record/5501/files/ZZ4mu11.root\",\n",
    "\"http://opendata.web.cern.ch/record/5501/files/ZZ4mu12.root\",\n",
    "\"http://opendata.web.cern.ch/record/5501/files/ZZ2mu2e11.root\",\n",
    "\"http://opendata.web.cern.ch/record/5501/files/ZZ2mu2e12.root\",\n",
    "\"http://opendata.web.cern.ch/record/5501/files/ZZ4e11.root\",\n",
    "\"http://opendata.web.cern.ch/record/5501/files/ZZ4e12.root\",\n",
    "\"http://opendata.web.cern.ch/record/5501/files/DY1011.root\",     \n",
    "\"http://opendata.web.cern.ch/record/5501/files/DY1012.root\",       \n",
    "\"http://opendata.web.cern.ch/record/5501/files/DY50TuneZ11.root\",  \n",
    "\"http://opendata.web.cern.ch/record/5501/files/DY50TuneZ12.root\",  \n",
    "\"http://opendata.web.cern.ch/record/5501/files/TTBar11.root\",  \n",
    "\"http://opendata.web.cern.ch/record/5501/files/TTBar12.root\"]\n",
    "\n",
    "file_names = [\"DoubleMu11.root\", \"DoubleE11.root\", \"DoubleMu12.root\", \"DoubleE12.root\", \"HZZ11.root\", \n",
    "              \"HZZ12.root\", \"ZZ4mu11.root\", \"ZZ4mu12.root\", \"ZZ2mu2e11.root\", \"ZZ2mu2e12.root\",\n",
    "             \"ZZ4e11.root\", \"ZZ4e12.root\", \"DY1011.root\", \"DY1012.root\", \"DY50TuneZ11.root\",\n",
    "             \"DY50TuneZ12.root\", \"TTBar11.root\", \"TTBar12.root\"]\n",
    "\n",
    "for i in range(len(url_names)):\n",
    "    urlreq = rq.urlretrieve(url_names[i], file_names[i])\n",
    "\n",
    "    #and now the files are wherever you're running this!\n",
    "    \n"
   ]
  },
  {
   "cell_type": "markdown",
   "metadata": {},
   "source": [
    "Running the code above saves all of the root files inside wherever you are running this notebook!  Can't tell you much about the meat of it (urllib.request), since I just found that from searching for a good python tool to use."
   ]
  },
  {
   "cell_type": "code",
   "execution_count": 28,
   "metadata": {},
   "outputs": [
    {
     "ename": "NameError",
     "evalue": "name 'TFile' is not defined",
     "output_type": "error",
     "traceback": [
      "\u001b[0;31m---------------------------------------------------------------------------\u001b[0m",
      "\u001b[0;31mNameError\u001b[0m                                 Traceback (most recent call last)",
      "\u001b[0;32m<ipython-input-28-fdbf6165f5e3>\u001b[0m in \u001b[0;36m<module>\u001b[0;34m\u001b[0m\n\u001b[1;32m      1\u001b[0m \u001b[0;31m#creating file to transform into a data structure:\u001b[0m\u001b[0;34m\u001b[0m\u001b[0;34m\u001b[0m\u001b[0m\n\u001b[1;32m      2\u001b[0m \u001b[0;34m\u001b[0m\u001b[0m\n\u001b[0;32m----> 3\u001b[0;31m \u001b[0mfile_doubleMu11\u001b[0m \u001b[0;34m=\u001b[0m \u001b[0mTFile\u001b[0m\u001b[0;34m(\u001b[0m\u001b[0;34m'DoubleMu11.root'\u001b[0m\u001b[0;34m,\u001b[0m \u001b[0;34m'READ'\u001b[0m \u001b[0;34m)\u001b[0m\u001b[0;34m\u001b[0m\u001b[0m\n\u001b[0m\u001b[1;32m      4\u001b[0m \u001b[0;34m\u001b[0m\u001b[0m\n\u001b[1;32m      5\u001b[0m \u001b[0;31m#pull out whatever variables you want into whatever data structure you'd like?\u001b[0m\u001b[0;34m\u001b[0m\u001b[0;34m\u001b[0m\u001b[0m\n",
      "\u001b[0;31mNameError\u001b[0m: name 'TFile' is not defined"
     ]
    }
   ],
   "source": [
    "\n",
    "#creating file to transform into a data structure:\n",
    "\n",
    "file_doubleMu11 = TFile('DoubleMu11.root', 'READ' )\n",
    "\n",
    "#pull out whatever variables you want into whatever data structure you'd like?  \n",
    "    #as for data structure (again, python really isn't a language I'm comfortable in) \n",
    "    #  I'd assume you'd want to make a panda dataset\n",
    "    #that would be the case if you have more than one variable you want to read, compare, and keep organized per event\n",
    "\n",
    "file_doubleMu11.Close()\n"
   ]
  },
  {
   "cell_type": "markdown",
   "metadata": {},
   "source": [
    "***\n",
    "A function to determine the decaying exponential fit to the background and the gaussian fit to the signal. A gaussian integration of the background and background+signal in the signal region is performed to determine the amount of signal and the signal-to-noise ratio (SNR)."
   ]
  },
  {
   "cell_type": "markdown",
   "metadata": {},
   "source": [
    "Documentation for the [TF1 class](https://root.cern.ch/doc/master/classTF1.html), at the Root Reference Guide.  \n",
    "Do not be afraid to search through the Reference Guide! If you don't underestand what parameters are going into a function, simply look up the class that function is being called on.  \n",
    "  \n",
    "  **For Example:**  \n",
    "The below definition of `falling_exponential_fit`, you can see it's being defined with a TF1 classification. Go to the Root Reference Guide and search the [TF1 class](https://root.cern.ch/doc/master/classTF1.html). There are examples listed, but scroll below to the section labelled **Public Member Functions**. The first function used in the code is a Constructor, which is constructing our 1-Dimension fuction.  Looking at the constructor used we see it's using a name, a formula, then two numbers. That corresponds with the constructor on the page marked as\n",
    "     \n",
    "     `TF1 (const char *name, const char *formula, Double_t xmin, Double_t xmax, Option_t *option)`,  \n",
    "where the `option` was not used. In order to find out what the formula input needs to be, there's a helpful [link for the TFormula class](https://root.cern.ch/doc/master/classTFormula.html) right in the description of the function.  \n",
    "  \n",
    "Next, to find the formulas `SetParameters` and `SetParLimits`, simply search the TF1 class page for the function name and the corresponding input to find all the information you need.\n",
    "\n",
    "**~~this is not a good example~~**  \n",
    "  \n",
    "  \n",
    "Continue in this fashion whenever you're confused by a section of code you see. It will be immensly helpful while learning how to use the ROOT framework.  Once you get comfortable using the Root Reference Guide, it'll become instrumental in creating your code.  ~~It's a bit easier to understand if you're using c++ to code, as all of the examples are likely in c++, as well as most of the documentation..  If you're using python, then I'm assuming you may just ignore any asterisks(\\*) or ampersands(&), or most unfamiliar things (disregard the pointer system)~~"
   ]
  },
  {
   "cell_type": "code",
   "execution_count": 30,
   "metadata": {},
   "outputs": [],
   "source": [
    "\n",
    "# @par canvas_name The name of the canvas to display the analysis of the histogram @hist.\n",
    "# @par hist The histogram that is being analyzed.\n",
    "def analyze_histogram(canvas_name, hist):\n",
    "    # Construct the falling exponential fit to be used for the background\n",
    "    falling_exponential_fit = ROOT.TF1(\"fallingExponentialFit\", \"[0]*exp(-1*[1]*x)\", 0, 75)\n",
    "    falling_exponential_fit.SetParameters(100, 0.01)\n",
    "    falling_exponential_fit.SetParLimits(0, 0.01, 10000)\n",
    "    falling_exponential_fit.SetParLimits(1, 0.00001, 100)\n",
    "    \n",
    "    # Construct the gaussian fit to be used to fit the signal region\n",
    "    gaussian_fit = ROOT.TF1(\"gaussianFit\", \"[0]*exp(-0.5*((x-[1])/[2])^2)\", 75, 110)\n",
    "    gaussian_fit.SetParameters(100, 100, 20)\n",
    "    gaussian_fit.SetParLimits(0, 0, 1000)\n",
    "    gaussian_fit.SetParLimits(1, 50, 150)\n",
    "    gaussian_fit.SetParLimits(2, 0.1, 100)\n",
    "    gaussian_fit.SetLineColor(ROOT.kGreen)\n",
    "    \n",
    "    # Create the canvas\n",
    "    canvas = ROOT.TCanvas(canvas_name, canvas_name, 700, 700)\n",
    "    hist.Fit(falling_exponential_fit, \"LR+\")\n",
    "    hist.Fit(gaussian_fit, \"LR+\")\n",
    "    \n",
    "    # Perform the integration and calculate SNR\n",
    "    wrapped_fall_exp = ROOT.Math.WrappedTF1(falling_exponential_fit)\n",
    "    wrapped_gauss = ROOT.Math.WrappedTF1(gaussian_fit)\n",
    "    integrator = ROOT.Math.GaussIntegrator()\n",
    "    integrator.SetFunction(wrapped_fall_exp)\n",
    "    integrator.SetRelTolerance(0.001)\n",
    "    noise_integration = integrator.Integral(75, 125)\n",
    "    integrator.SetFunction(wrapped_gauss)\n",
    "    signal_integration = integrator.Integral(75, 125)\n",
    "    _signal = signal_integration - noise_integration\n",
    "    snr = _signal/noise_integration\n",
    "    \n",
    "    # Print the output and draw onto canvas.\n",
    "    print(\"The measured noise within the signal region was: \" + str(noise_integration) + \"\\n\")\n",
    "    print(\"The measured signal within the signal region was: \" + str(_signal) + \"\\n\")\n",
    "    print(\"The signal to noise ratio (SNR) is: \" + str(snr) + \"\\n\")\n",
    "    print(\"=====\\n\")\n",
    "    print('The mass of the Z boson is ' + str(gaussian_fit.GetParameter(1)) + ' +- ' + str(gaussian_fit.GetParError(1)) + ' GeV/c^2\\n')\n",
    "    hist.Draw()\n",
    "    png_filename = canvas_name + \".png\"\n",
    "    canvas.SaveAs(png_filename)"
   ]
  },
  {
   "cell_type": "markdown",
   "metadata": {},
   "source": [
    "I'm guessing there'll be some sort of description here on what you're trying to do?\n"
   ]
  },
  {
   "cell_type": "code",
   "execution_count": 20,
   "metadata": {
    "scrolled": true
   },
   "outputs": [
    {
     "ename": "SyntaxError",
     "evalue": "invalid syntax (<ipython-input-20-4da72aa7697f>, line 15)",
     "output_type": "error",
     "traceback": [
      "\u001b[0;36m  File \u001b[0;32m\"<ipython-input-20-4da72aa7697f>\"\u001b[0;36m, line \u001b[0;32m15\u001b[0m\n\u001b[0;31m    for(it = mass_map.begin(); it != mass_map.end(); it++) {\u001b[0m\n\u001b[0m           ^\u001b[0m\n\u001b[0;31mSyntaxError\u001b[0m\u001b[0;31m:\u001b[0m invalid syntax\n"
     ]
    }
   ],
   "source": [
    "# Generating output\n",
    "numBins = 100\n",
    "lowerXRange = 0\n",
    "upperXRange = 260\n",
    "\n",
    "# Create the histograms\n",
    "zBosonHist = ROOT.TH1C(\"zBosonHist\", \"Histogram of Invariant Masses of Dilepton Decay\", numBins,\n",
    "                       lowerXRange, upperXRange)\n",
    "zBosonElectronHist = ROOT.TH1C(\"zBosonElectronHist\", \"Histogram of Invariant Masses of Dielectron Decays\", \n",
    "                               numBins, lowerXRange, upperXRange)\n",
    "zBosonMuonHist = ROOT.TH1C(\"zBosonMuonHist\", \"Histogram of Invariant Masses of Dimuon Decays\", \n",
    "                           numBins, lowerXRange, upperXRange)\n",
    "\n",
    "# Fill the data\n",
    "#  for(it = mass_map.begin(); it != mass_map.end(); it++) {\n",
    "#    vector<double> masses = it->second;\n",
    "#    for(unsigned int i = 0; i < masses.size(); ++i) {\n",
    "#      zBosonHist->Fill(masses[i])\n",
    "#      if(it->first.compare(\"e\"))\n",
    "#          zBosonElectronHist->Fill(masses[i]);\n",
    "#      else if(it->first.compare(\"m\"))\n",
    "#        zBosonMuonHist->Fill(masses[i]);\n",
    "#    }}\n",
    "# Analyze the histograms\n",
    "\n",
    "print(\"=================================================\\n\")\n",
    "print(\"Analyzing all of the dilepton decays...\\n\")\n",
    "analyze_histogram(\"overallHistCanvas\", zBosonHist)\n",
    "print(\"=================================================\\n\")\n",
    "print(\"Analyzing just the dielectron decays\\n\")\n",
    "analyze_histogram(\"dielectronHistCanvas\", zBosonElectronHist)\n",
    "print(\"=================================================\\n\")\n",
    "print(\"Analyzing just the dimuon decays\\n\")\n",
    "analyze_histogram(\"dimuonHistCanvas\", zBosonMuonHist)\n",
    "print(\"=================================================\\n\")"
   ]
  },
  {
   "cell_type": "markdown",
   "metadata": {},
   "source": [
    "![title](overallHistCanvas.png)\n",
    "\n",
    "Investigating lepton universality...\n",
    "![title](dielectronHistCanvas.png)\n",
    "![title](dimuonHistCanvas.png)"
   ]
  },
  {
   "cell_type": "code",
   "execution_count": null,
   "metadata": {},
   "outputs": [],
   "source": []
  }
 ],
 "metadata": {
  "kernelspec": {
   "display_name": "Python 3",
   "language": "python",
   "name": "python3"
  },
  "language_info": {
   "codemirror_mode": {
    "name": "ipython",
    "version": 3
   },
   "file_extension": ".py",
   "mimetype": "text/x-python",
   "name": "python",
   "nbconvert_exporter": "python",
   "pygments_lexer": "ipython3",
   "version": "3.6.6"
  }
 },
 "nbformat": 4,
 "nbformat_minor": 2
}
